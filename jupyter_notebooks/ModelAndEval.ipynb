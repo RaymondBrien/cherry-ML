{
  "cells": [
    {
      "cell_type": "markdown",
      "metadata": {
        "id": "0aStgWSO0E0E"
      },
      "source": [
        "# **Modelling and Evaluation Notebook**"
      ]
    },
    {
      "cell_type": "markdown",
      "metadata": {
        "id": "1eLEkw5O0ECa"
      },
      "source": [
        "## Objectives\n",
        "Answer Business requirement 2: Binary Classification using Convolutional Neural Networks\n",
        "\n",
        "* predict if a given leaf is infected or not judging by the presence of powdery mildew.\n",
        "* use the CNN to map relationships between features and labels.\n",
        "* build a binary classifier and generate reports.\n",
        "\n",
        "## Inputs\n",
        "\n",
        "* inputs/cherry-leaves-dataset/cherry-leaves/train\n",
        "* inputs/cherry-leaves-dataset/cherry-leaves/test\n",
        "* inputs/cherry-leaves-dataset/cherry-leaves/validation\n",
        "* image shape embeddings pickle file\n",
        "\n",
        "## Outputs\n",
        "TODO\n",
        "* v1:\n",
        "    * class_distribution.png  \n",
        "    * class_indices.pkl  \n",
        "    * evaluation.pkl\n",
        "    * model_v1.keras  \n",
        "    * training_accuracy_v1.png  \n",
        "    * training_loss_v1.png \n",
        "\n",
        "## Additional Comments\n",
        "TODO\n",
        "* In case you have any additional comments that don't fit in the previous bullets, please state them here. \n",
        "\n"
      ]
    },
    {
      "cell_type": "markdown",
      "metadata": {
        "id": "9uWZXH9LwoQg"
      },
      "source": [
        "---"
      ]
    },
    {
      "cell_type": "markdown",
      "metadata": {},
      "source": [
        "### ANNOTATE MODEL VERSION"
      ]
    },
    {
      "cell_type": "code",
      "execution_count": null,
      "metadata": {},
      "outputs": [],
      "source": [
        "version = 'v2'  # change as needed"
      ]
    },
    {
      "cell_type": "markdown",
      "metadata": {},
      "source": [
        "### Import regular packages"
      ]
    },
    {
      "cell_type": "code",
      "execution_count": 1,
      "metadata": {},
      "outputs": [],
      "source": [
        "import os\n",
        "import pandas as pd\n",
        "import numpy as np\n",
        "import matplotlib.pyplot as plt\n",
        "import seaborn as sns\n",
        "from matplotlib.image import imread"
      ]
    },
    {
      "cell_type": "markdown",
      "metadata": {
        "id": "cqP-UeN-z3i2"
      },
      "source": [
        "### Change working directory"
      ]
    },
    {
      "cell_type": "markdown",
      "metadata": {
        "id": "aOGIGS-uz3i2"
      },
      "source": [
        "We need to change the working directory from its current folder to its parent folder\n",
        "* We access the current directory with os.getcwd()"
      ]
    },
    {
      "cell_type": "code",
      "execution_count": 1,
      "metadata": {
        "id": "wZfF_j-Bz3i4",
        "outputId": "66943449-1436-4c3d-85c7-b85f9f78349b"
      },
      "outputs": [
        {
          "data": {
            "text/plain": [
              "'/workspace/cherry-ML/jupyter_notebooks'"
            ]
          },
          "execution_count": 1,
          "metadata": {},
          "output_type": "execute_result"
        }
      ],
      "source": [
        "import os\n",
        "current_dir = os.getcwd()\n",
        "current_dir"
      ]
    },
    {
      "cell_type": "markdown",
      "metadata": {
        "id": "9MWW8E7lz3i7"
      },
      "source": [
        "We want to make the parent of the current directory the new current directory\n",
        "* os.path.dirname() gets the parent directory\n",
        "* os.chir() defines the new current directory"
      ]
    },
    {
      "cell_type": "code",
      "execution_count": 2,
      "metadata": {
        "id": "TwHsQRWjz3i9",
        "outputId": "86849db3-cd2f-4cc5-ebb8-2d0caafa1a2c"
      },
      "outputs": [
        {
          "name": "stdout",
          "output_type": "stream",
          "text": [
            "You set a new current directory\n"
          ]
        }
      ],
      "source": [
        "os.chdir(os.path.dirname(current_dir))\n",
        "print(\"You set a new current directory\")"
      ]
    },
    {
      "cell_type": "markdown",
      "metadata": {
        "id": "M_xPk_Ijz3i-"
      },
      "source": [
        "Confirm the new current directory"
      ]
    },
    {
      "cell_type": "code",
      "execution_count": 3,
      "metadata": {
        "id": "vz3S-_kjz3jA",
        "outputId": "00b79ae4-75d0-4a96-d193-ac9ef9847ea2"
      },
      "outputs": [
        {
          "data": {
            "text/plain": [
              "'/workspace/cherry-ML'"
            ]
          },
          "execution_count": 3,
          "metadata": {},
          "output_type": "execute_result"
        }
      ],
      "source": [
        "current_dir = os.getcwd()\n",
        "current_dir"
      ]
    },
    {
      "cell_type": "markdown",
      "metadata": {},
      "source": [
        "### For Google Collab functionality \n",
        "* uncomment as needed"
      ]
    },
    {
      "cell_type": "code",
      "execution_count": null,
      "metadata": {},
      "outputs": [],
      "source": [
        "# !pip install kaggle==1.5.12"
      ]
    },
    {
      "cell_type": "code",
      "execution_count": null,
      "metadata": {},
      "outputs": [],
      "source": [
        "# # manually upload kaggle.json\n",
        "# from google.colab import files\n",
        "# files.upload()"
      ]
    },
    {
      "cell_type": "code",
      "execution_count": null,
      "metadata": {},
      "outputs": [],
      "source": [
        "# # allow kaggle.json access\n",
        "# os.environ['KAGGLE_CONFIG_DIR'] = os.getcwd()\n",
        "# ! chmod 600 kaggle.json"
      ]
    },
    {
      "cell_type": "code",
      "execution_count": null,
      "metadata": {},
      "outputs": [],
      "source": [
        "# KaggleDatasetPath = \"codeinstitute/cherry-leaves\"\n",
        "# DestinationFolder = \"inputs/cherry-leaves-dataset\"  # creates new dir/dir\n",
        "# ! kaggle datasets download -d {KaggleDatasetPath} -p {DestinationFolder}"
      ]
    },
    {
      "cell_type": "code",
      "execution_count": null,
      "metadata": {},
      "outputs": [],
      "source": [
        "# import zipfile\n",
        "\n",
        "# try:\n",
        "#     with zipfile.ZipFile(DestinationFolder + '/cherry-leaves.zip', 'r') as zip_ref:\n",
        "#         zip_ref.extractall(DestinationFolder)\n",
        "# except Exception as e:\n",
        "#     print(e)\n"
      ]
    },
    {
      "cell_type": "code",
      "execution_count": null,
      "metadata": {},
      "outputs": [],
      "source": [
        "# TODO DO NOT UNCOMMENT IN COLLAB - removes everything in collab!\n",
        "# os.remove(DestinationFolder + '/cherry-leaves.zip')"
      ]
    },
    {
      "cell_type": "markdown",
      "metadata": {},
      "source": [
        "### Set input directory"
      ]
    },
    {
      "cell_type": "code",
      "execution_count": 6,
      "metadata": {},
      "outputs": [],
      "source": [
        "my_data_dir = 'inputs/cherry-leaves-dataset/cherry-leaves'\n",
        "train_path = my_data_dir + '/train'\n",
        "val_path = my_data_dir + '/validation'\n",
        "test_path = my_data_dir + '/test'"
      ]
    },
    {
      "cell_type": "markdown",
      "metadata": {},
      "source": [
        "### Set output directory"
      ]
    },
    {
      "cell_type": "code",
      "execution_count": null,
      "metadata": {},
      "outputs": [],
      "source": [
        "\n",
        "file_path = f'outputs/{version}'\n",
        "\n",
        "if 'outputs' in os.listdir(current_dir) and version in os.listdir(current_dir + '/outputs'):\n",
        "    print('Old version is already available, create a new version.')\n",
        "    pass\n",
        "else:\n",
        "    os.makedirs(name=file_path)"
      ]
    },
    {
      "cell_type": "markdown",
      "metadata": {},
      "source": [
        "### Gather labels"
      ]
    },
    {
      "cell_type": "code",
      "execution_count": null,
      "metadata": {},
      "outputs": [],
      "source": [
        "try:\n",
        "    labels = os.listdir(train_path)\n",
        "except:\n",
        "    labels = ['healthy', 'powdery_mildew']\n",
        "\n",
        "print(f\"Project Labels: {labels}\")"
      ]
    },
    {
      "cell_type": "markdown",
      "metadata": {},
      "source": [
        "### Load image shape embeddings"
      ]
    },
    {
      "cell_type": "code",
      "execution_count": null,
      "metadata": {},
      "outputs": [],
      "source": [
        "import joblib\n",
        "version_im = 'v1'  # original (should remain unchanged)\n",
        "\n",
        "try:\n",
        "    # Import saved image shape embedding pickle file\n",
        "    image_shape = joblib.load(filename=f\"outputs/{version_im}/image_shape.pkl\")\n",
        "\n",
        "except:\n",
        "    # for google collab\n",
        "    image_shape = (256, 256, 3)\n",
        "\n",
        "finally:\n",
        "    print(image_shape)\n",
        "\n"
      ]
    },
    {
      "cell_type": "markdown",
      "metadata": {},
      "source": [
        "## Validate image files:\n",
        "* For Google Colab\n",
        "* TODO remove before submit"
      ]
    },
    {
      "cell_type": "code",
      "execution_count": null,
      "metadata": {},
      "outputs": [],
      "source": [
        "def remove_non_image_files(my_data_dir):\n",
        "    print('Removing non image files...\\n')\n",
        "    image_extension = ('.png', '.jpg', 'jpeg')\n",
        "    folders = os.listdir(my_data_dir)\n",
        "    for folder in folders:\n",
        "        files = os.listdir(f'{my_data_dir}/{folder}')\n",
        "        # print files\n",
        "        non_image = []\n",
        "        image_count = []\n",
        "        for given_file in files:\n",
        "            try:\n",
        "                if not given_file.lower().endswith(image_extension):\n",
        "                    file_location = f'{my_data_dir}/{folder}/{given_file}'\n",
        "                    os.remove(file_location) # remove non image file\n",
        "                    non_image.append(1)\n",
        "                else:\n",
        "                    image_count.append(1)\n",
        "                    pass\n",
        "            except Exception as e:\n",
        "                print(e)\n",
        "\n",
        "        print(f'Folder: {folder} has - {len(image_count)} image files')\n",
        "        print(f'Folder: {folder} has - {len(non_image)} non image files, which have been removed')"
      ]
    },
    {
      "cell_type": "code",
      "execution_count": null,
      "metadata": {},
      "outputs": [],
      "source": [
        "remove_non_image_files('inputs/cherry-leaves-dataset/cherry-leaves')"
      ]
    },
    {
      "cell_type": "markdown",
      "metadata": {},
      "source": [
        "### Split train, val, test sets with dirs\n",
        "* for Google Collab\n",
        "TODO remove these steps before submit"
      ]
    },
    {
      "cell_type": "code",
      "execution_count": null,
      "metadata": {},
      "outputs": [],
      "source": [
        "import os\n",
        "import shutil\n",
        "import random\n",
        "import joblib\n",
        "\n",
        "def split_train_validation_test_images(my_data_dir, train_set_ratio, validation_set_ratio, test_set_ratio):\n",
        "\n",
        "    # confirm ratios total 1.0\n",
        "    if train_set_ratio + validation_set_ratio + test_set_ratio != 1.0:\n",
        "        print('Ratios should total 1.0.')\n",
        "        print('You entered:\\n')\n",
        "        print(f'Train radio: {train_set_ratio}')\n",
        "        print(f'Validation radio: {validation_set_ratio}')\n",
        "        print(f'Test radio: {test_set_ratio}')\n",
        "        return \n",
        "\n",
        "    # get classes labels\n",
        "    labels = os.listdir(my_data_dir)  # expect only folder name\n",
        "    if 'test' in labels:\n",
        "        pass\n",
        "    else:\n",
        "        try:\n",
        "            # create train, test folders with classes labels sub-folder\n",
        "            for folder in ['train', 'validation', 'test']:\n",
        "                for label in labels:\n",
        "                    os.makedirs(name=f'{my_data_dir}/{folder}/{label}')\n",
        "            \n",
        "            for label in labels:\n",
        "\n",
        "                files = os.listdir(f'{my_data_dir}/{label}')\n",
        "                random.seed(42)\n",
        "                random.shuffle(files)\n",
        "\n",
        "                train_set_files_qty = int(len(files) * train_set_ratio)\n",
        "                validation_set_files_qty = int(len(files) * validation_set_ratio)\n",
        "\n",
        "                count = 1\n",
        "                for file_name in files:\n",
        "                    if count <= train_set_files_qty:\n",
        "                        # move given file to train set\n",
        "                        shutil.move(f'{my_data_dir}/{label}/{file_name}',\n",
        "                                    f'{my_data_dir}/train/{label}/{file_name}')\n",
        "                    elif count <= (train_set_files_qty + validation_set_files_qty):\n",
        "                        # move a given file to the validation set\n",
        "                        shutil.move(f'{my_data_dir}/{label}/{file_name}',\n",
        "                                    f'{my_data_dir}/validation/{label}/{file_name}')\n",
        "                    else:\n",
        "                        # move given file to test set\n",
        "                        shutil.move(f'{my_data_dir}/{label}/{file_name}',\n",
        "                                    f'{my_data_dir}/test/{label}/{file_name}')\n",
        "                    \n",
        "                    count += 1\n",
        "\n",
        "                os.rmdir(f'{my_data_dir}/{label}')\n",
        "            \n",
        "        except Exception as e:\n",
        "            print(e)\n",
        "    \n",
        "    print('Done!')\n"
      ]
    },
    {
      "cell_type": "code",
      "execution_count": null,
      "metadata": {},
      "outputs": [],
      "source": [
        "split_train_validation_test_images(\n",
        "    my_data_dir='inputs/cherry-leaves-dataset/cherry-leaves',\n",
        "    train_set_ratio=0.7,\n",
        "    validation_set_ratio=0.1,\n",
        "    test_set_ratio=0.2\n",
        ")"
      ]
    },
    {
      "cell_type": "markdown",
      "metadata": {},
      "source": [
        "***"
      ]
    },
    {
      "cell_type": "markdown",
      "metadata": {},
      "source": [
        "# Review class distribution\n",
        "\n",
        "* across whole dataset\n",
        "* per train, test, and validation"
      ]
    },
    {
      "cell_type": "code",
      "execution_count": null,
      "metadata": {},
      "outputs": [],
      "source": [
        "df_freq = pd.DataFrame([])\n",
        "total_images_count = 0\n",
        "\n",
        "# gather info\n",
        "for folder in ['train', 'validation', 'test']:\n",
        "    for label in labels:\n",
        "\n",
        "        path = my_data_dir + '/' + folder + '/' + label\n",
        "        \n",
        "        image_count = int(len(os.listdir(path)))\n",
        "        total_images_count += image_count\n",
        "\n",
        "        try:\n",
        "            df_freq = df_freq.append(pd.Series({'Set': folder,'Label': label,'Frequency': image_count}), ignore_index=True )\n",
        "            print(f\"* {folder}- {label}: {image_count} images\\n\")\n",
        "        except:\n",
        "            # for google collab functionality \n",
        "            df_freq = df_freq.concat(pd.Series({'Set': folder,'Label': label,'Frequency': image_count}), ignore_index=True )\n",
        "            print(f\"* {folder}- {label}: {image_count} images\\n\")\n",
        "\n",
        "\n",
        "print(f'{total_images_count} images total')\n",
        "print('--------')\n",
        "\n",
        "### plot class distribution\n",
        "plt.figure(figsize=(10, 6))\n",
        "sns.barplot(x='Set', y='Frequency', hue='Label', data=df_freq)\n",
        "plt.title('Class Distribution')\n",
        "plt.savefig(f'{file_path}/class_distribution.png', bbox_inches='tight', dpi=600)\n",
        "plt.show()\n",
        "print('\\n')\n",
        "\n",
        "print('--------')\n",
        "\n",
        "# confirm percentages of dataset\n",
        "df_freq.set_index('Label', inplace=True)\n",
        "df_freq['Percent of DataSet'] = round(df_freq['Frequency'] / total_images_count * 100)\n",
        "\n",
        "print(df_freq)"
      ]
    },
    {
      "cell_type": "markdown",
      "metadata": {},
      "source": [
        "We can confirm that train, validation and test set percentages of dataset are split as expected, and that there are equal amounts of both classes (healthy and powdery_mildew) in each set."
      ]
    },
    {
      "cell_type": "markdown",
      "metadata": {
        "id": "-mavJ8DibrcQ"
      },
      "source": [
        "***"
      ]
    },
    {
      "cell_type": "markdown",
      "metadata": {},
      "source": [
        "# Image Augmentation"
      ]
    },
    {
      "cell_type": "markdown",
      "metadata": {},
      "source": [
        "### Define image data generator, initialize\n"
      ]
    },
    {
      "cell_type": "code",
      "execution_count": null,
      "metadata": {},
      "outputs": [],
      "source": [
        "# This function generates batches of image data with real-time data augmentation.\n",
        "from tensorflow.keras.preprocessing.image import ImageDataGenerator\n",
        "\n",
        "# Initialize\n",
        "augmented_image_data = ImageDataGenerator(rotation_range=30,  # increase from 20\n",
        "                                          width_shift_range=0.15,  # increase from 0.1\n",
        "                                          height_shift_range=0.15,  # increase from 0.1\n",
        "                                          brightness_range=[0.8, 1.2],  # added\n",
        "                                          shear_range=0.1,\n",
        "                                          zoom_range=0.2,  # increase from 0.1\n",
        "                                          horizontal_flip=True,\n",
        "                                          vertical_flip=True,\n",
        "                                          fill_mode='nearest',\n",
        "                                          rescale=1./255\n",
        "                                          )"
      ]
    },
    {
      "cell_type": "markdown",
      "metadata": {},
      "source": [
        "### Augment TRAINING image dataset\n"
      ]
    },
    {
      "cell_type": "code",
      "execution_count": null,
      "metadata": {},
      "outputs": [],
      "source": [
        "batch_size = 16  # TODO review in new cell\n",
        "train_set = augmented_image_data.flow_from_directory(train_path,\n",
        "                                                     target_size=image_shape[:2],\n",
        "                                                     color_mode='rgb',\n",
        "                                                     batch_size=batch_size,\n",
        "                                                     class_mode='binary',\n",
        "                                                     shuffle=True,\n",
        "                                                     seed=42  # add seed for consistency\n",
        "                                                     )\n",
        "\n",
        "train_set.class_indices"
      ]
    },
    {
      "cell_type": "markdown",
      "metadata": {},
      "source": [
        "### Augment VALIDATION image dataset\n"
      ]
    },
    {
      "cell_type": "code",
      "execution_count": null,
      "metadata": {},
      "outputs": [],
      "source": [
        "validation_set = ImageDataGenerator(rescale=1./255).flow_from_directory(val_path,\n",
        "                                                                        target_size=image_shape[:2],\n",
        "                                                                        color_mode='rgb',\n",
        "                                                                        batch_size=batch_size,\n",
        "                                                                        class_mode='binary',\n",
        "                                                                        shuffle=False\n",
        "                                                                        )\n",
        "\n",
        "validation_set.class_indices"
      ]
    },
    {
      "cell_type": "markdown",
      "metadata": {},
      "source": [
        "### Augment TEST image dataset"
      ]
    },
    {
      "cell_type": "code",
      "execution_count": null,
      "metadata": {},
      "outputs": [],
      "source": [
        "test_set = ImageDataGenerator(rescale=1./255).flow_from_directory(test_path,\n",
        "                                                                  target_size=image_shape[:2],\n",
        "                                                                  color_mode='rgb',\n",
        "                                                                  batch_size=batch_size,\n",
        "                                                                  class_mode='binary',\n",
        "                                                                  shuffle=False\n",
        "                                                                  )\n",
        "\n",
        "test_set.class_indices"
      ]
    },
    {
      "cell_type": "markdown",
      "metadata": {},
      "source": [
        "### Plot augmented training images"
      ]
    },
    {
      "cell_type": "code",
      "execution_count": null,
      "metadata": {},
      "outputs": [],
      "source": [
        "for _ in range(5):\n",
        "    try:\n",
        "        img, label = train_set.next()\n",
        "    except:\n",
        "        # for google collab functionality\n",
        "        img, label = next(train_set)\n",
        "\n",
        "    print(f'{img.shape}\\n')  # expect: (20, 256, 256, 3)\n",
        "    plt.imshow(img[0])\n",
        "    print('--------------')\n",
        "    plt.show()\n",
        "    "
      ]
    },
    {
      "cell_type": "markdown",
      "metadata": {},
      "source": [
        "### Plot augmented validation and test images"
      ]
    },
    {
      "cell_type": "code",
      "execution_count": null,
      "metadata": {},
      "outputs": [],
      "source": [
        "for _ in range(5):  \n",
        "    try:\n",
        "        img, label = validation_set.next()\n",
        "    except:\n",
        "        # for google collab functionality\n",
        "        img, label = next(validation_set)\n",
        "    print(f'{img.shape}\\n')\n",
        "    plt.imshow(img[0])\n",
        "    print('--------------')\n",
        "    plt.show()\n"
      ]
    },
    {
      "cell_type": "markdown",
      "metadata": {},
      "source": [
        "###  Observations\n",
        "Augmented validation and test images have been standardized between 0 to 255 pixels. As you can see, the images are ugmented and are ready to be used for developing and training a CNN model."
      ]
    },
    {
      "cell_type": "markdown",
      "metadata": {},
      "source": [
        "### Save class indices"
      ]
    },
    {
      "cell_type": "code",
      "execution_count": null,
      "metadata": {},
      "outputs": [],
      "source": [
        "joblib.dump(value=train_set.class_indices,\n",
        "            filename=f\"{file_path}/class_indices.pkl\")"
      ]
    },
    {
      "cell_type": "markdown",
      "metadata": {
        "id": "ZY3l0-AxO93d"
      },
      "source": [
        "---"
      ]
    },
    {
      "cell_type": "markdown",
      "metadata": {},
      "source": [
        "# Model Creation"
      ]
    },
    {
      "cell_type": "markdown",
      "metadata": {},
      "source": [
        "---"
      ]
    },
    {
      "cell_type": "markdown",
      "metadata": {},
      "source": [
        "### ML Model"
      ]
    },
    {
      "cell_type": "markdown",
      "metadata": {},
      "source": [
        "* Import model packages"
      ]
    },
    {
      "cell_type": "code",
      "execution_count": null,
      "metadata": {},
      "outputs": [],
      "source": [
        "# for google collab functionality\n",
        "!pip install tensorflow\n",
        "\n",
        "# TODO v3:\n",
        "# !pip install keras_tuner "
      ]
    },
    {
      "cell_type": "code",
      "execution_count": null,
      "metadata": {},
      "outputs": [],
      "source": [
        "import tensorflow as tf\n",
        "\n",
        "# TODO v3:\n",
        "# import keras_tuner as kt \n",
        "\n",
        "from tensorflow.keras.models import Sequential\n",
        "from tensorflow.keras.layers import Activation, Dropout, Flatten, Dense, Conv2D, MaxPooling2D, BatchNormalization\n",
        "\n",
        "# TODO add check for tf version for continuity between collab and other environments\n",
        "# TODO uncomment to find collab dependencies\n",
        "# !pip freeze > collab_requirements.txt\n"
      ]
    },
    {
      "cell_type": "markdown",
      "metadata": {},
      "source": [
        "* ### Model"
      ]
    },
    {
      "cell_type": "code",
      "execution_count": 21,
      "metadata": {},
      "outputs": [],
      "source": [
        "# TODO v3 add hp as param\n",
        "def create_tf_model():\n",
        "    \"\"\"\n",
        "    Creates a CNN model for binary classification of leaf images\n",
        "\n",
        "    Differences between V1 and V2:\n",
        "\n",
        "    - v2 removes early stopping for initial analysis (v3 will include early stopping).\n",
        "        - This is to explore why v1 was scoring so highly on accuracy (up to 100%).\n",
        "    - removed one convolution layer in v2: may have been too complex for the small dataset\n",
        "        - instead, v2 convolution layer 3 has largest number of filters\n",
        "    - v2 includes batch normalisation before final dense layer\n",
        "\n",
        "    V3 plans:\n",
        "    - TODO completely revamp steps_per_epoch so never runs out of data (set to none?)\n",
        "        - v2 kept running out of data on every epoch. This made evaluations unreadable.\n",
        "        - \n",
        "\n",
        "    \"\"\"\n",
        "    model = Sequential()\n",
        "\n",
        "    # Input layer: CONV1\n",
        "    model.add(Conv2D(filters=32, kernel_size=(3, 3),\n",
        "        input_shape=image_shape,  # average image shape\n",
        "        activation='relu', ))\n",
        "    model.add(MaxPooling2D(pool_size=(2,2)))\n",
        "\n",
        "    # CONV2\n",
        "    model.add(Conv2D(filters=64, kernel_size=(3, 3),\n",
        "        activation='relu', ))\n",
        "    model.add(MaxPooling2D(pool_size=(2,2)))\n",
        "\n",
        "    # CONV3\n",
        "    model.add(Conv2D(\n",
        "        filters=128,  # increase\n",
        "        kernel_size=(3,3),\n",
        "        activation='relu', ))\n",
        "    # TODO v3: consider adding normalisation here too\n",
        "    # model.add(BatchNormalization())\n",
        "    model.add(MaxPooling2D(pool_size=(2,2)))\n",
        "\n",
        "    # Flatten\n",
        "    model.add(Flatten())\n",
        "\n",
        "    # TODO v3: Tune the number of units in the first Dense layer\n",
        "    # Choose an optimal value between 32-512\n",
        "    # hp_units = hp.Int('units', min_value=32, max_value=512, step=32)\n",
        "    # model.add(Dense(units=hp_units, activation='relu'))\n",
        "    model.add(Dense(128, activation='relu'))\n",
        "    model.add(BatchNormalization())\n",
        "\n",
        "    model.add(Dropout(0.4))\n",
        "\n",
        "    model.add(Dense(1, activation='sigmoid'))\n",
        "\n",
        "    # TODO v3 Tune the learning rate for the optimizer\n",
        "    # Choose an optimal value from 0.01, 0.001, or 0.0001\n",
        "    # hp_learning_rate = hp.Choice('learning_rate', values=[1e-2, 1e-3, 1e-4])\n",
        "\n",
        "    # Compile\n",
        "    model.compile(\n",
        "        loss='binary_crossentropy',\n",
        "        optimizer=Adam(),\n",
        "        # optimizer=Adam(learning_rate=hp_learning_rate),\n",
        "        metrics=[\n",
        "            'accuracy',\n",
        "        ])\n",
        "\n",
        "    return model"
      ]
    },
    {
      "cell_type": "markdown",
      "metadata": {},
      "source": [
        "## Instantiate tuner and perform hypertuning"
      ]
    },
    {
      "cell_type": "code",
      "execution_count": null,
      "metadata": {},
      "outputs": [],
      "source": [
        "# # TODO v3 https://www.tensorflow.org/tutorials/keras/keras_tuner\n",
        "\n",
        "# tuner = kt.Hyperband(create_tf_model,\n",
        "#                      objective='val_accuracy',\n",
        "#                      max_epochs=10,\n",
        "#                      factor=3,\n",
        "#                      directory=my_data_dir\n",
        "#                      )"
      ]
    },
    {
      "cell_type": "code",
      "execution_count": null,
      "metadata": {},
      "outputs": [],
      "source": [
        "# TODO final model: find how to save this summary\n",
        "summary = create_tf_model().summary()"
      ]
    },
    {
      "cell_type": "markdown",
      "metadata": {},
      "source": [
        "* Early Stopping\n",
        "\n",
        "    * Avoid overfitting"
      ]
    },
    {
      "cell_type": "code",
      "execution_count": 54,
      "metadata": {},
      "outputs": [],
      "source": [
        "# from tensorflow.keras.callbacks import EarlyStopping\n",
        "# early_stop = EarlyStopping(monitor='val_loss', patience=10, verbose=3)  # increase patience from 3 to 10"
      ]
    },
    {
      "cell_type": "markdown",
      "metadata": {},
      "source": [
        "### Run hypertune search"
      ]
    },
    {
      "cell_type": "code",
      "execution_count": null,
      "metadata": {},
      "outputs": [],
      "source": [
        "# TODO v3\n",
        "# SOURCE https://www.tensorflow.org/tutorials/keras/keras_tuner\n",
        "\n",
        "# tuner.search(img_train, label_train, epochs=50, validation_split=0.2, callbacks=[stop_early])\n",
        "\n",
        "# # Get the optimal hyperparameters\n",
        "# best_hps=tuner.get_best_hyperparameters(num_trials=1)[0]\n",
        "\n",
        "# print(f\"\"\"\n",
        "# The hyperparameter search is complete. The optimal number of units in the first densely-connected\n",
        "# layer is {best_hps.get('units')} and the optimal learning rate for the optimizer\n",
        "# is {best_hps.get('learning_rate')}.\n",
        "# \"\"\")\n",
        "# _________\n",
        "# # then reinstantiate hyermodel and train it with optimal number of epochs from above\n",
        "# hypermodel = tuner.hypermodel.build(best_hps)\n",
        "\n",
        "# # Retrain the model\n",
        "# hypermodel.fit(img_train, label_train, epochs=best_epoch, validation_split=0.2)\n",
        "# _________\n",
        "\n",
        "# eval_result = hypermodel.evaluate(img_test, label_test)\n",
        "# print(\"[test loss, test accuracy]:\", eval_result)\n"
      ]
    },
    {
      "cell_type": "markdown",
      "metadata": {},
      "source": [
        "### Visaulise Model"
      ]
    },
    {
      "cell_type": "code",
      "execution_count": null,
      "metadata": {},
      "outputs": [],
      "source": [
        "# TODO remove if neccessary\n",
        "from tensorflow.keras.utils import plot_model\n",
        "\n",
        "try:\n",
        "    model = create_tf_model()\n",
        "    plot_model(model, show_shapes=True, to_file=f'model_{version}.png')\n",
        "except Exception as e:\n",
        "    print(e)\n",
        "    pass\n"
      ]
    },
    {
      "cell_type": "markdown",
      "metadata": {},
      "source": [
        "***"
      ]
    },
    {
      "cell_type": "markdown",
      "metadata": {},
      "source": [
        "# Create Model"
      ]
    },
    {
      "cell_type": "code",
      "execution_count": null,
      "metadata": {},
      "outputs": [],
      "source": [
        "# # Build the model with the optimal hyperparameters and train it on the data for 50 epochs\n",
        "# model = tuner.hypermodel.build(best_hps)\n",
        "# history = model.fit(img_train, label_train, epochs=50, validation_split=0.2)\n",
        "\n",
        "# val_acc_per_epoch = history.history['val_accuracy']\n",
        "# best_epoch = val_acc_per_epoch.index(max(val_acc_per_epoch)) + 1\n",
        "# print('Best epoch: %d' % (best_epoch,))\n",
        "\n",
        "model = create_tf_model()\n",
        "# TODO v3: check train_set dict (via ImageDataGenerator)\n",
        "model.fit(train_set,\n",
        "          epochs=25,\n",
        "          #   TODO v3: evaluate why steps per epoch does not work:\n",
        "          #  len(train_set) ? Should batch size be higher? (still power of 2)\n",
        "          steps_per_epoch=len(train_set.classes) // batch_size,\n",
        "          validation_data=validation_set,\n",
        "          #   TODO v3: add back: \n",
        "          # callbacks=[early_stop],\n",
        "          verbose=1\n",
        "          )"
      ]
    },
    {
      "cell_type": "markdown",
      "metadata": {},
      "source": [
        "### Save model"
      ]
    },
    {
      "cell_type": "code",
      "execution_count": null,
      "metadata": {},
      "outputs": [],
      "source": [
        "model.save(f'outputs/{version}/cherry-tree-model.h5')"
      ]
    },
    {
      "cell_type": "markdown",
      "metadata": {},
      "source": [
        "*** \n",
        "\n",
        "# Evaluate Model Performance "
      ]
    },
    {
      "cell_type": "code",
      "execution_count": 72,
      "metadata": {},
      "outputs": [],
      "source": [
        "# TODO refactor for train_set (train_set instead of X, y etc)\n",
        "\n",
        "# def confusion_matrix_and_report(X,y,pipeline,label_map):\n",
        "#     prediction = pipeline.predict(X).reshape(-1)\n",
        "#     prediction = np.where(prediction<0.5,0,1)\n",
        "#     # the prediction using sigmoid as an activation function is a probability number, between 0 and 1\n",
        "#     # we convert it to 0 or 1, if it is lower than 0.5, the predicted class is 0, otherwise it is 1\n",
        "#     # you could change the threshold if you want.\n",
        "#     print('--- Confusion Matrix ---')\n",
        "#     print(\n",
        "#         pd.DataFrame(confusion_matrix(y_true=prediction, y_pred=y),\n",
        "#         columns=[ [\"Actual \" + sub for sub in label_map] ],\n",
        "#         index= [ [\"Prediction \" + sub for sub in label_map ]]\n",
        "#         ))\n",
        "#     print(\"\\n\")\n",
        "#     print('--- Classification Report ---')\n",
        "#     print(classification_report(y, prediction, target_names=label_map),\"\\n\")\n",
        "\n",
        "\n",
        "# def clf_performance(X_train,y_train,X_test,y_test,X_val, y_val,pipeline,label_map):\n",
        "#     print(\"#### Train Set #### \\n\")\n",
        "#     confusion_matrix_and_report(X_train,y_train,pipeline,label_map)\n",
        "\n",
        "#     print(\"#### Validation Set #### \\n\")\n",
        "#     confusion_matrix_and_report(X_val,y_val,pipeline,label_map)\n",
        "\n",
        "#     print(\"#### Test Set ####\\n\")\n",
        "#     confusion_matrix_and_report(X_test,y_test,pipeline,label_map)"
      ]
    },
    {
      "cell_type": "markdown",
      "metadata": {},
      "source": [
        "### Plot model training loss and accuracy "
      ]
    },
    {
      "cell_type": "code",
      "execution_count": null,
      "metadata": {},
      "outputs": [],
      "source": [
        "# TODO v2: plot training losses and accuracy too? Given validation set is so small\n",
        "losses = pd.DataFrame(model.history.history)\n",
        "losses[['loss', 'val_loss']].plot(style='.-')\n",
        "plt.title('Loss')\n",
        "plt.savefig(f'{file_path}/training_loss.png', bbox_inches='tight', dpi=600)\n",
        "print('\\n')\n",
        "losses[['accuracy', 'val_accuracy']].plot(style='.-')\n",
        "plt.title('Accuracy')\n",
        "plt.savefig(f'{file_path}/training_accuracy.png', bbox_inches='tight', dpi=600)"
      ]
    },
    {
      "cell_type": "markdown",
      "metadata": {},
      "source": [
        "### Evaluate and save"
      ]
    },
    {
      "cell_type": "code",
      "execution_count": null,
      "metadata": {},
      "outputs": [],
      "source": [
        "evaluation = model.evaluate(test_set)\n",
        "try:\n",
        "    evaluation_train = model.evaluate(train_set)\n",
        "    evaluation_val = model.evaluate(validation_set)\n",
        "except Exception as e:\n",
        "    print(e)\n",
        "    pass"
      ]
    },
    {
      "cell_type": "code",
      "execution_count": null,
      "metadata": {},
      "outputs": [],
      "source": [
        "joblib.dump(value=evaluation,\n",
        "            filename=f\"outputs/v1/evaluation.pkl\")"
      ]
    },
    {
      "cell_type": "markdown",
      "metadata": {},
      "source": [
        "# Run Live Prediction "
      ]
    },
    {
      "cell_type": "code",
      "execution_count": null,
      "metadata": {},
      "outputs": [],
      "source": [
        "from tensorflow.keras.preprocessing import image\n",
        "\n",
        "pointer = 66  # TODO change to random within length of dir\n",
        "label = labels[1]  # select Uninfected or Parasitised # TODO change to random (0 or 1) and print image class too\n",
        "\n",
        "pil_image = image.load_img(test_path + '/' + label + '/' + os.listdir(test_path+'/' + label)[pointer],\n",
        "                           target_size=image_shape, color_mode='rgb')\n",
        "print(f'Image shape: {pil_image.size}, Image mode: {pil_image.mode}')\n",
        "pil_image"
      ]
    },
    {
      "cell_type": "code",
      "execution_count": null,
      "metadata": {},
      "outputs": [],
      "source": [
        "pred_img = image.img_to_array(pil_image)\n",
        "pred_img = np.expand_dims(pred_img, axis=0)/255\n",
        "print(pred_img.shape)\n",
        "pred_img"
      ]
    },
    {
      "cell_type": "code",
      "execution_count": null,
      "metadata": {},
      "outputs": [],
      "source": [
        "# predict class probability on test image\n",
        "pred_proba = model.predict(pred_img)[0, 0] # why 0 0?\n",
        "\n",
        "target_map = {v: k for k, v in train_set.class_indices.items()}\n",
        "pred_class = target_map[pred_proba > 0.5]\n",
        "\n",
        "if pred_class == target_map[0]:\n",
        "  pred_proba = 1 - pred_proba\n",
        "\n",
        "print(f'Prediction: {pred_class}\\nConfidence: {pred_proba*100:.1f}%') # TODO do I want more decimal places?"
      ]
    },
    {
      "cell_type": "markdown",
      "metadata": {},
      "source": [
        "## Evaluation v1 to v2:\n",
        "\n",
        "Given that the training data, whilst augmented was very small, I believe this has caused overfitting and a lack of proper deep learning, leading to 100% certainty.\n",
        "Now that I have defined a first iteration of model 1, \n",
        "\n",
        "## Next steps:\n",
        "* Define clear pipelines \n",
        "    * clear normalisation\n",
        "    * clear image augmentation\n",
        "        * more img aug parameters including:\n",
        "            * brightness\n",
        "            * color\n",
        "            * random cropping\n",
        "            * rotation\n",
        "    * clear hypertuning \n",
        "    * clear evaluation process: \n",
        "        * plot confusion matrix\n",
        "        * classicication report"
      ]
    },
    {
      "cell_type": "markdown",
      "metadata": {},
      "source": [
        "*** "
      ]
    },
    {
      "cell_type": "code",
      "execution_count": null,
      "metadata": {},
      "outputs": [],
      "source": [
        "import joblib\n",
        "\n",
        "evaluation = joblib.load(f'outputs/{version}/evaluation.pkl')\n",
        "print(f'evaluation: {evaluation}\\n') # loss, accuracy? TODO confirm layout, plot as DF\n",
        "print('-----')\n",
        "\n",
        "try:\n",
        "    evaluation_train = joblib.load(f'outputs/{version}/evaluation_train.pkl')\n",
        "    evaluation_val = joblib.load(f'outputs/{version}/evaluation_val.pkl')\n",
        "    print(f'evaluation_train: {evaluation_train}')\n",
        "    print('\\n')\n",
        "    print(f'evaluation_val: {evaluation_val}')\n",
        "except Exception as e:\n",
        "    print(e)\n",
        "    pass\n",
        "\n"
      ]
    }
  ],
  "metadata": {
    "accelerator": "GPU",
    "colab": {
      "name": "Data Practitioner Jupyter Notebook.ipynb",
      "provenance": [],
      "toc_visible": true
    },
    "interpreter": {
      "hash": "8b8334dab9339717f727a1deaf837b322d7a41c20d15cc86be99a8e69ceec8ce"
    },
    "kernelspec": {
      "display_name": "Python 3.8.12 64-bit ('3.8.12': pyenv)",
      "name": "python3"
    },
    "language_info": {
      "codemirror_mode": {
        "name": "ipython",
        "version": 3
      },
      "file_extension": ".py",
      "mimetype": "text/x-python",
      "name": "python",
      "nbconvert_exporter": "python",
      "pygments_lexer": "ipython3",
      "version": "3.8.18"
    },
    "orig_nbformat": 2
  },
  "nbformat": 4,
  "nbformat_minor": 2
}
