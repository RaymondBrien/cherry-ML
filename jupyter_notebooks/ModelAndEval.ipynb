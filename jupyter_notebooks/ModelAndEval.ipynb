{
  "cells": [
    {
      "cell_type": "markdown",
      "metadata": {
        "id": "0aStgWSO0E0E"
      },
      "source": [
        "# **Modelling and Evaluation Notebook**"
      ]
    },
    {
      "cell_type": "markdown",
      "metadata": {
        "id": "1eLEkw5O0ECa"
      },
      "source": [
        "## Objectives\n",
        "Answer Business requirement 2: Binary Classification using Convolutional Neural Networks\n",
        "\n",
        "* predict if a given leaf is infected or not judging by the presence of powdery mildew.\n",
        "* use the CNN to map relationships between features and labels.\n",
        "* build a binary classifier and generate reports.\n",
        "\n",
        "## Inputs\n",
        "\n",
        "* inputs/cherry-leaves-dataset/cherry-leaves/train\n",
        "* inputs/cherry-leaves-dataset/cherry-leaves/test\n",
        "* inputs/cherry-leaves-dataset/cherry-leaves/validation\n",
        "* image_shape.pkl (image shape embeddings pickle file)\n",
        "\n",
        "## Outputs\n",
        "\n",
        "* cherry-tree-model.h5 (model)\n",
        "* class_distribution.png\n",
        "* class_indices.pkl\n",
        "* model_training_acc.png\n",
        "* model_training_losses.png\n",
        "* test-evaluation.pkl\n",
        "* train-evaluation.pkl\n",
        "* val-evaluation.pkl\n",
        "\n",
        "\n"
      ]
    },
    {
      "cell_type": "markdown",
      "metadata": {
        "id": "9uWZXH9LwoQg"
      },
      "source": [
        "---"
      ]
    },
    {
      "cell_type": "markdown",
      "metadata": {},
      "source": [
        "### Define model version\n",
        "* v6 is current per Nov 2024"
      ]
    },
    {
      "cell_type": "code",
      "execution_count": 1,
      "metadata": {},
      "outputs": [],
      "source": [
        "version = 'v6'"
      ]
    },
    {
      "cell_type": "markdown",
      "metadata": {},
      "source": [
        "### Import regular packages"
      ]
    },
    {
      "cell_type": "code",
      "execution_count": 2,
      "metadata": {},
      "outputs": [],
      "source": [
        "import os\n",
        "import pandas as pd\n",
        "import numpy as np\n",
        "import matplotlib.pyplot as plt\n",
        "import seaborn as sns\n",
        "from matplotlib.image import imread"
      ]
    },
    {
      "cell_type": "markdown",
      "metadata": {
        "id": "cqP-UeN-z3i2"
      },
      "source": [
        "### Change working directory"
      ]
    },
    {
      "cell_type": "markdown",
      "metadata": {
        "id": "aOGIGS-uz3i2"
      },
      "source": [
        "Change the working directory from current folder to parent folder for root access"
      ]
    },
    {
      "cell_type": "code",
      "execution_count": 3,
      "metadata": {
        "id": "wZfF_j-Bz3i4",
        "outputId": "66943449-1436-4c3d-85c7-b85f9f78349b"
      },
      "outputs": [
        {
          "data": {
            "text/plain": [
              "'/workspace/cherry-ML/jupyter_notebooks'"
            ]
          },
          "execution_count": 3,
          "metadata": {},
          "output_type": "execute_result"
        }
      ],
      "source": [
        "import os\n",
        "current_dir = os.getcwd()\n",
        "current_dir"
      ]
    },
    {
      "cell_type": "code",
      "execution_count": 4,
      "metadata": {
        "id": "TwHsQRWjz3i9",
        "outputId": "86849db3-cd2f-4cc5-ebb8-2d0caafa1a2c"
      },
      "outputs": [
        {
          "name": "stdout",
          "output_type": "stream",
          "text": [
            "You set a new current directory\n"
          ]
        }
      ],
      "source": [
        "os.chdir(os.path.dirname(current_dir))\n",
        "print(\"You set a new current directory\")"
      ]
    },
    {
      "cell_type": "markdown",
      "metadata": {
        "id": "M_xPk_Ijz3i-"
      },
      "source": [
        "Confirm the new current directory"
      ]
    },
    {
      "cell_type": "code",
      "execution_count": 5,
      "metadata": {
        "id": "vz3S-_kjz3jA",
        "outputId": "00b79ae4-75d0-4a96-d193-ac9ef9847ea2"
      },
      "outputs": [
        {
          "data": {
            "text/plain": [
              "'/workspace/cherry-ML'"
            ]
          },
          "execution_count": 5,
          "metadata": {},
          "output_type": "execute_result"
        }
      ],
      "source": [
        "current_dir = os.getcwd()\n",
        "current_dir"
      ]
    },
    {
      "cell_type": "markdown",
      "metadata": {},
      "source": [
        "### Set input directory"
      ]
    },
    {
      "cell_type": "code",
      "execution_count": 6,
      "metadata": {},
      "outputs": [],
      "source": [
        "my_data_dir = 'inputs/cherry-leaves-dataset/cherry-leaves'\n",
        "train_path = my_data_dir + '/train'\n",
        "val_path = my_data_dir + '/validation'\n",
        "test_path = my_data_dir + '/test'"
      ]
    },
    {
      "cell_type": "markdown",
      "metadata": {},
      "source": [
        "### Set output directory"
      ]
    },
    {
      "cell_type": "code",
      "execution_count": 7,
      "metadata": {},
      "outputs": [
        {
          "name": "stdout",
          "output_type": "stream",
          "text": [
            "Old version is already available, create a new version.\n"
          ]
        }
      ],
      "source": [
        "\n",
        "file_path = f'outputs/{version}'\n",
        "\n",
        "if 'outputs' in os.listdir(current_dir) and version in os.listdir(current_dir + '/outputs'):\n",
        "    print('Old version is already available, create a new version.')\n",
        "    pass\n",
        "else:\n",
        "    os.makedirs(name=file_path)"
      ]
    },
    {
      "cell_type": "markdown",
      "metadata": {},
      "source": [
        "### Gather labels"
      ]
    },
    {
      "cell_type": "code",
      "execution_count": 8,
      "metadata": {},
      "outputs": [
        {
          "name": "stdout",
          "output_type": "stream",
          "text": [
            "Project Labels: ['healthy', 'powdery_mildew']\n"
          ]
        }
      ],
      "source": [
        "try:\n",
        "    labels = os.listdir(train_path)\n",
        "except:\n",
        "    labels = ['healthy', 'powdery_mildew']\n",
        "\n",
        "print(f\"Project Labels: {labels}\")"
      ]
    },
    {
      "cell_type": "markdown",
      "metadata": {},
      "source": [
        "### Load image shape embeddings"
      ]
    },
    {
      "cell_type": "code",
      "execution_count": 13,
      "metadata": {},
      "outputs": [
        {
          "name": "stdout",
          "output_type": "stream",
          "text": [
            "image_shape is: (256, 256, 3)\n"
          ]
        }
      ],
      "source": [
        "import os\n",
        "import joblib\n",
        "\n",
        "try:\n",
        "    image_shape = joblib.load(filename=f\"outputs/{version}/image_shape.pkl\")\n",
        "\n",
        "except:\n",
        "    print(\n",
        "    'An error has occurred whilst importing image_shape.pkl\\n'\n",
        "    'Please ensure file exists and accessed via root directory.\\n'\n",
        "    f'You are currently in: {os.getcwd()}'\n",
        "    )\n",
        "    # google collab: update as needed\n",
        "    print('Hardcoding provided image shape of (256, 256, 3)')\n",
        "    image_shape = (256, 256, 3)\n",
        "    print(f'image_shape is: {image_shape}')\n",
        "\n",
        "else:\n",
        "    print(f'image_shape is: {image_shape}')\n",
        "\n",
        "\n"
      ]
    },
    {
      "cell_type": "markdown",
      "metadata": {},
      "source": [
        "***"
      ]
    },
    {
      "cell_type": "markdown",
      "metadata": {},
      "source": [
        "# Review class distribution\n",
        "\n",
        "* across whole dataset\n",
        "* per train, test, and validation"
      ]
    },
    {
      "cell_type": "code",
      "execution_count": 1,
      "metadata": {},
      "outputs": [
        {
          "ename": "NameError",
          "evalue": "name 'pd' is not defined",
          "output_type": "error",
          "traceback": [
            "\u001b[0;31m---------------------------------------------------------------------------\u001b[0m",
            "\u001b[0;31mNameError\u001b[0m                                 Traceback (most recent call last)",
            "Cell \u001b[0;32mIn[1], line 1\u001b[0m\n\u001b[0;32m----> 1\u001b[0m df_freq \u001b[38;5;241m=\u001b[39m \u001b[43mpd\u001b[49m\u001b[38;5;241m.\u001b[39mDataFrame([])\n\u001b[1;32m      2\u001b[0m total_images_count \u001b[38;5;241m=\u001b[39m \u001b[38;5;241m0\u001b[39m\n\u001b[1;32m      4\u001b[0m \u001b[38;5;66;03m# gather info\u001b[39;00m\n",
            "\u001b[0;31mNameError\u001b[0m: name 'pd' is not defined"
          ]
        }
      ],
      "source": [
        "df_freq = pd.DataFrame([])\n",
        "total_images_count = 0\n",
        "\n",
        "# gather info\n",
        "for folder in ['train', 'validation', 'test']:\n",
        "    for label in labels:\n",
        "\n",
        "        path = my_data_dir + '/' + folder + '/' + label\n",
        "        \n",
        "        image_count = int(len(os.listdir(path)))\n",
        "        total_images_count += image_count\n",
        "\n",
        "        try:\n",
        "            df_freq = df_freq.append(pd.Series({'Set': folder,'Label': label,'Frequency': image_count}), ignore_index=True )\n",
        "            print(f\"* {folder}- {label}: {image_count} images\\n\")\n",
        "        except:\n",
        "            # for google collab functionality \n",
        "            df_freq = df_freq.concat(pd.Series({'Set': folder,'Label': label,'Frequency': image_count}), ignore_index=True )\n",
        "            print(f\"* {folder}- {label}: {image_count} images\\n\")\n",
        "\n",
        "\n",
        "print(f'{total_images_count} images total')\n",
        "print('--------')\n",
        "\n",
        "### plot class distribution\n",
        "plt.figure(figsize=(10, 6))\n",
        "sns.barplot(x='Set', y='Frequency', hue='Label', data=df_freq, color_pallette='flare')\n",
        "plt.title('Class Distribution')\n",
        "plt.savefig(f'{file_path}/class_distribution.png', bbox_inches='tight', dpi=600)\n",
        "plt.show()\n",
        "print('\\n')\n",
        "\n",
        "print('--------')\n",
        "\n",
        "# confirm percentages of dataset\n",
        "df_freq.set_index('Label', inplace=True)\n",
        "df_freq['Percent of DataSet'] = round(df_freq['Frequency'] / total_images_count * 100)\n",
        "\n",
        "print(df_freq)\n"
      ]
    },
    {
      "cell_type": "markdown",
      "metadata": {},
      "source": [
        "We can confirm that train, validation and test set percentages of dataset are split as expected, and that there are equal amounts of both classes (healthy and powdery_mildew) in each set."
      ]
    },
    {
      "cell_type": "markdown",
      "metadata": {
        "id": "-mavJ8DibrcQ"
      },
      "source": [
        "***"
      ]
    },
    {
      "cell_type": "markdown",
      "metadata": {},
      "source": [
        "# Image Augmentation"
      ]
    },
    {
      "cell_type": "markdown",
      "metadata": {},
      "source": [
        "### Define image data generator, initialize\n"
      ]
    },
    {
      "cell_type": "code",
      "execution_count": null,
      "metadata": {},
      "outputs": [],
      "source": [
        "from tensorflow.keras.preprocessing.image import ImageDataGenerator\n",
        "\n",
        "# Initialize\n",
        "augmented_image_data = ImageDataGenerator(rotation_range=20,\n",
        "                                          width_shift_range=0.1,\n",
        "                                          height_shift_range=0.1,\n",
        "                                        #   brightness_range=[0.8, 1.2],\n",
        "                                          shear_range=0.1,\n",
        "                                          zoom_range=0.1,\n",
        "                                          horizontal_flip=True,\n",
        "                                          vertical_flip=True,\n",
        "                                          fill_mode='nearest',\n",
        "                                          rescale=1./255\n",
        "                                          )"
      ]
    },
    {
      "cell_type": "markdown",
      "metadata": {},
      "source": [
        "### Define batch size "
      ]
    },
    {
      "cell_type": "code",
      "execution_count": 12,
      "metadata": {},
      "outputs": [],
      "source": [
        "batch_size = 20"
      ]
    },
    {
      "cell_type": "markdown",
      "metadata": {},
      "source": [
        "### Augment TRAINING image dataset\n"
      ]
    },
    {
      "cell_type": "code",
      "execution_count": null,
      "metadata": {},
      "outputs": [],
      "source": [
        "train_set = augmented_image_data.flow_from_directory(train_path,\n",
        "                                                     target_size=image_shape[:2],\n",
        "                                                     color_mode='rgb',\n",
        "                                                     batch_size=batch_size,\n",
        "                                                     class_mode='binary',\n",
        "                                                     shuffle=True,\n",
        "                                                     # seed=42, TODO\n",
        "                                                     )\n",
        "\n",
        "\n",
        "train_set.class_indices\n",
        "\n",
        "\n",
        "train_set.class_indices"
      ]
    },
    {
      "cell_type": "markdown",
      "metadata": {},
      "source": [
        "### Rescale validation image dataset\n"
      ]
    },
    {
      "cell_type": "code",
      "execution_count": null,
      "metadata": {},
      "outputs": [],
      "source": [
        "validation_set = ImageDataGenerator(rescale=1./255).flow_from_directory(val_path,\n",
        "                                                          target_size=image_shape[:2],\n",
        "                                                          color_mode='rgb',\n",
        "                                                          batch_size=batch_size,\n",
        "                                                          class_mode='binary',\n",
        "                                                          shuffle=False\n",
        "                                                          )\n",
        "\n",
        "validation_set.class_indices"
      ]
    },
    {
      "cell_type": "markdown",
      "metadata": {},
      "source": [
        "### Rescale test image dataset"
      ]
    },
    {
      "cell_type": "code",
      "execution_count": null,
      "metadata": {},
      "outputs": [],
      "source": [
        "test_set = ImageDataGenerator(rescale=1./255).flow_from_directory(test_path,\n",
        "                                                    target_size=image_shape[:2],\n",
        "                                                    color_mode='rgb',\n",
        "                                                    batch_size=batch_size,\n",
        "                                                    class_mode='binary',\n",
        "                                                    shuffle=False\n",
        "                                                    )\n",
        "\n",
        "test_set.class_indices"
      ]
    },
    {
      "cell_type": "markdown",
      "metadata": {},
      "source": [
        "### Plot augmented training images"
      ]
    },
    {
      "cell_type": "code",
      "execution_count": null,
      "metadata": {},
      "outputs": [],
      "source": [
        "for _ in range(3):\n",
        "    try:\n",
        "        img, label = train_set.next()\n",
        "    except:\n",
        "        # for google collab functionality\n",
        "        img, label = next(train_set)\n",
        "\n",
        "    print(f'{img.shape}\\n')  # expect: (20, 256, 256, 3)\n",
        "    plt.imshow(img[0])\n",
        "    print('--------------')\n",
        "    plt.show()\n"
      ]
    },
    {
      "cell_type": "markdown",
      "metadata": {},
      "source": [
        "### Plot augmented validation and test images"
      ]
    },
    {
      "cell_type": "code",
      "execution_count": null,
      "metadata": {},
      "outputs": [],
      "source": [
        "# validation_set\n",
        "for _ in range(3):\n",
        "    try:\n",
        "        img, label = validation_set.next()\n",
        "    except:\n",
        "        # for google collab functionality\n",
        "        img, label = next(validation_set)\n",
        "    print(f'{img.shape}\\n')\n",
        "    plt.imshow(img[0])\n",
        "    print('--------------')\n",
        "    plt.show()\n",
        "\n"
      ]
    },
    {
      "cell_type": "code",
      "execution_count": null,
      "metadata": {},
      "outputs": [],
      "source": [
        "# test set\n",
        "for _ in range(3):\n",
        "    try:\n",
        "        img, label = test_set.next()\n",
        "    except:\n",
        "        # for google collab functionality\n",
        "        img, label = next(test_set)\n",
        "    print(f'{img.shape}\\n')\n",
        "    plt.imshow(img[0])\n",
        "    print('--------------')\n",
        "    plt.show()"
      ]
    },
    {
      "cell_type": "markdown",
      "metadata": {},
      "source": [
        "###  Observations\n",
        "Augmented validation and test images have been standardized between 0 to 255 pixels. As you can see, the images are ugmented and are ready to be used for developing and training a CNN model."
      ]
    },
    {
      "cell_type": "markdown",
      "metadata": {},
      "source": [
        "### Save class indices"
      ]
    },
    {
      "cell_type": "code",
      "execution_count": null,
      "metadata": {},
      "outputs": [],
      "source": [
        "joblib.dump(value=train_set.class_indices,\n",
        "            filename=f\"{file_path}/class_indices.pkl\")"
      ]
    },
    {
      "cell_type": "markdown",
      "metadata": {
        "id": "ZY3l0-AxO93d"
      },
      "source": [
        "---"
      ]
    },
    {
      "cell_type": "markdown",
      "metadata": {},
      "source": [
        "# Model Creation"
      ]
    },
    {
      "cell_type": "markdown",
      "metadata": {},
      "source": [
        "---"
      ]
    },
    {
      "cell_type": "markdown",
      "metadata": {},
      "source": [
        "### ML Model"
      ]
    },
    {
      "cell_type": "markdown",
      "metadata": {},
      "source": [
        "* Import model packages"
      ]
    },
    {
      "cell_type": "code",
      "execution_count": 20,
      "metadata": {},
      "outputs": [],
      "source": [
        "from tensorflow.keras.models import Sequential\n",
        "from tensorflow.keras.layers import Activation, Dropout, Flatten, Dense, Conv2D, MaxPooling2D, BatchNormalization\n",
        "from tensorflow.keras.callbacks import EarlyStopping, ModelCheckpoint, CSVLogger\n",
        "from tensorflow.keras.utils import plot_model"
      ]
    },
    {
      "cell_type": "markdown",
      "metadata": {},
      "source": [
        "* ### Model"
      ]
    },
    {
      "cell_type": "code",
      "execution_count": 21,
      "metadata": {},
      "outputs": [],
      "source": [
        "def create_tf_model():\n",
        "    \"\"\"\n",
        "    Creates a CNN model for binary classification of leaf images\n",
        "    \"\"\"\n",
        "    model = Sequential()\n",
        "\n",
        "    # Input layer: CONV1\n",
        "    model.add(Conv2D(filters=32, kernel_size=(3, 3),\n",
        "        input_shape=image_shape,  # average image shape\n",
        "        activation='relu', ))\n",
        "    model.add(MaxPooling2D(pool_size=(2,2)))\n",
        "\n",
        "    # CONV2\n",
        "    model.add(Conv2D(filters=12, kernel_size=(3, 3),\n",
        "        activation='relu', ))\n",
        "    model.add(MaxPooling2D(pool_size=(2,2)))\n",
        "\n",
        "    # CONV3\n",
        "    model.add(Conv2D(filters=8, kernel_size=(3,3),\n",
        "        activation='relu', ))\n",
        "    model.add(MaxPooling2D(pool_size=(2,2)))\n",
        "\n",
        "    # Flatten\n",
        "    model.add(Flatten())\n",
        "    model.add(Dense(128, activation='relu'))\n",
        "    model.add(Dropout(0.5))\n",
        "\n",
        "    # Output\n",
        "    model.add(Dense(1, activation='sigmoid'))\n",
        "\n",
        "    # Compile\n",
        "    model.compile(\n",
        "        loss='binary_crossentropy',\n",
        "        optimizer='adam',\n",
        "        metrics=['accuracy',])\n",
        "\n",
        "    return model"
      ]
    },
    {
      "cell_type": "markdown",
      "metadata": {},
      "source": [
        "## Model summary"
      ]
    },
    {
      "cell_type": "code",
      "execution_count": null,
      "metadata": {},
      "outputs": [],
      "source": [
        "summary = create_tf_model().summary()"
      ]
    },
    {
      "cell_type": "markdown",
      "metadata": {},
      "source": [
        "Plot model"
      ]
    },
    {
      "cell_type": "code",
      "execution_count": null,
      "metadata": {},
      "outputs": [],
      "source": [
        "try:\n",
        "    plot_model(model, show_shapes=True, to_file=f'model_{version}.png')\n",
        "except Exception as e:\n",
        "    print(e)\n",
        "    pass\n"
      ]
    },
    {
      "cell_type": "markdown",
      "metadata": {},
      "source": [
        "Add early stopping\n",
        "* Avoid overfitting"
      ]
    },
    {
      "cell_type": "code",
      "execution_count": 25,
      "metadata": {},
      "outputs": [],
      "source": [
        "early_stop = EarlyStopping(monitor='val_loss', patience=3, verbose=3)"
      ]
    },
    {
      "cell_type": "code",
      "execution_count": null,
      "metadata": {},
      "outputs": [],
      "source": [
        "# TODO remove before submit?\n",
        "print(f'Train set object: {train_set}')\n",
        "print(f\"Number of samples in training set: {train_set.samples}\")\n",
        "print(f\"Number of classes: {len(train_set.classes)}\")\n",
        "print(f\"Batch size: {batch_size}\")\n",
        "print(f\"Current steps calculation (classes/batch_size): {len(train_set.classes) // batch_size}\")\n",
        "print(f\"Correct steps calculation (samples/batch_size): {train_set.samples // batch_size}\")\n",
        "print(f\"Number of validation samples: {validation_set.samples}\")\n",
        "print(f\"Validation steps per epoch: {validation_set.samples // batch_size}\")"
      ]
    },
    {
      "cell_type": "markdown",
      "metadata": {},
      "source": [
        "***"
      ]
    },
    {
      "cell_type": "markdown",
      "metadata": {},
      "source": [
        "# Fit Model for training"
      ]
    },
    {
      "cell_type": "markdown",
      "metadata": {},
      "source": [
        "### Save checkpoints"
      ]
    },
    {
      "cell_type": "code",
      "execution_count": 28,
      "metadata": {},
      "outputs": [],
      "source": [
        "import os\n",
        "\n",
        "# check if the full path exists\n",
        "checkpoint_folder = f'/workspace/outputs/{version}/training_checkpoints'\n",
        "\n",
        "if not os.path.exists(checkpoint_folder):\n",
        "    os.makedirs(checkpoint_folder)\n",
        "    print('training checkpoints folder made')\n",
        "\n",
        "# dynamically include the epoch in checkpoint file name\n",
        "checkpoint_path = f\"{checkpoint_folder}/cp-{{epoch:04d}}.ckpt\"\n",
        "checkpoint_dir = os.path.dirname(checkpoint_path)\n",
        "\n",
        "# callback to save model weights per epoch\n",
        "cp_callback = ModelCheckpoint(filepath=checkpoint_path,\n",
        "                                                 verbose=1,\n",
        "                                                 save_weights_only=True,\n",
        "                                                 save_freq='epoch',\n",
        "                                                 monitor='accuracy',\n",
        "                                                 save_best_only=True)\n"
      ]
    },
    {
      "cell_type": "markdown",
      "metadata": {},
      "source": [
        "Brief untrained model evaluation"
      ]
    },
    {
      "cell_type": "code",
      "execution_count": null,
      "metadata": {},
      "outputs": [],
      "source": [
        "loss, acc = create_tf_model().evaluate(test_set, verbose=2)\n",
        "print(\"Untrained model, accuracy: {:5.2f}%\".format(100 * acc))  # 2 decimal places"
      ]
    },
    {
      "cell_type": "markdown",
      "metadata": {},
      "source": [
        "Add CSV logger for history access in case of training runtime errors"
      ]
    },
    {
      "cell_type": "code",
      "execution_count": 31,
      "metadata": {},
      "outputs": [],
      "source": [
        "history_csv_logger = CSVLogger('training.log', separator=',', append=False)"
      ]
    },
    {
      "cell_type": "markdown",
      "metadata": {},
      "source": [
        "### Set epochs"
      ]
    },
    {
      "cell_type": "code",
      "execution_count": 32,
      "metadata": {},
      "outputs": [],
      "source": [
        "EPOCHS = 25"
      ]
    },
    {
      "cell_type": "code",
      "execution_count": null,
      "metadata": {},
      "outputs": [],
      "source": [
        "try:\n",
        "    model = create_tf_model()\n",
        "    model.fit(train_set,\n",
        "            epochs=EPOCHS,\n",
        "            # TODO remove? steps_per_epoch=None, # None is equal to the number of samples in your dataset divided by the batch size\n",
        "            steps_per_epoch = len(train_set.classes) // batch_size,\n",
        "            validation_data=validation_set,\n",
        "            # TODO remove? validation_steps=None,  #  validation will run until the validation_data dataset is exhausted\n",
        "            callbacks=[early_stop, cp_callback, history_csv_logger],\n",
        "            verbose=1,\n",
        "            )\n",
        "except Exception as e:\n",
        "    print(e + '\\n')\n",
        "\n",
        "    # load latest weights\n",
        "    latest = tf.train.latest_checkpoint(checkpoint_dir)\n",
        "    model.load_weights(latest)\n",
        "\n",
        "    print('Model restored! Continuing...')\n",
        "    # continue model training\n",
        "    model.fit(train_set,\n",
        "            epochs=EPOCHS,\n",
        "            # TODO remove? steps_per_epoch=None, # None is equal to the number of samples in your dataset divided by the batch size\n",
        "            steps_per_epoch = len(train_set.classes) // batch_size,\n",
        "            validation_data=validation_set,\n",
        "            # TODO remove? validation_steps=None,\n",
        "            callbacks=[early_stop, cp_callback, history_csv_logger],\n",
        "            verbose=1,\n",
        "            )\n"
      ]
    },
    {
      "cell_type": "markdown",
      "metadata": {},
      "source": [
        "### Save model"
      ]
    },
    {
      "cell_type": "code",
      "execution_count": null,
      "metadata": {},
      "outputs": [],
      "source": [
        "try:\n",
        "    model.save(f'outputs/{version}/cherry-tree-model.h5')\n",
        "    print('model saved!')\n",
        "except Exception as e:\n",
        "    print(e)"
      ]
    },
    {
      "cell_type": "markdown",
      "metadata": {},
      "source": [
        "*** \n",
        "\n",
        "# Evaluate Model Performance "
      ]
    },
    {
      "cell_type": "code",
      "execution_count": 35,
      "metadata": {},
      "outputs": [],
      "source": [
        "# TODO remove?\n",
        "# import numpy as np\n",
        "# import pandas as pd\n",
        "# import tensorflow as tf\n",
        "# from sklearn.metrics import confusion_matrix, classification_report\n",
        "\n",
        "# def extract_performance_from_history(model):\n",
        "#     \"\"\"\n",
        "#     Extract and analyze performance metrics from model training history\n",
        "\n",
        "#     Parameters:\n",
        "#     - model: Trained Keras model\n",
        "#     - history: Model training history object\n",
        "\n",
        "#     Returns:\n",
        "#     - Dictionary of performance metrics\n",
        "#     \"\"\"\n",
        "#     # Extract metrics from history\n",
        "#     history = model.history.history\n",
        "\n",
        "#     performance_metrics = {\n",
        "#         'training': {\n",
        "#             'loss': history.get('loss', []),\n",
        "#             'accuracy': history.get('accuracy', []),\n",
        "#             'val_loss': history.get('val_loss', []),\n",
        "#             'val_accuracy': history.get('val_accuracy', [])\n",
        "#         }\n",
        "#     }\n",
        "\n",
        "#     # Calculate best epoch and corresponding metrics\n",
        "#     best_train_accuracy = max(performance_metrics['training']['accuracy'])\n",
        "#     best_val_accuracy = max(performance_metrics['training']['val_accuracy'])\n",
        "#     best_train_loss = min(performance_metrics['training']['loss'])\n",
        "#     best_val_loss = min(performance_metrics['training']['val_loss'])\n",
        "\n",
        "#     performance_metrics['best_metrics'] = {\n",
        "#         'best_train_accuracy': best_train_accuracy,\n",
        "#         'best_val_accuracy': best_val_accuracy,\n",
        "#         'best_train_loss': best_train_loss,\n",
        "#         'best_val_loss': best_val_loss\n",
        "#     }\n",
        "\n",
        "#     return performance_metrics\n",
        "\n",
        "# def plot_training_history(model):\n",
        "#     \"\"\"\n",
        "#     Create plots for training and validation metrics\n",
        "\n",
        "#     Parameters:\n",
        "#     - history: Model training history object\n",
        "\n",
        "#     Returns:\n",
        "#     - Matplotlib figure with subplots\n",
        "#     \"\"\"\n",
        "#     import matplotlib.pyplot as plt\n",
        "\n",
        "#     history = model.history\n",
        "\n",
        "#     plt.figure(figsize=(12, 4))\n",
        "\n",
        "#     # Plot training & validation accuracy values\n",
        "#     plt.subplot(1, 2, 1)\n",
        "#     plt.plot(history.history['accuracy'])\n",
        "#     plt.plot(history.history['val_accuracy'])\n",
        "#     plt.title('Model Accuracy')\n",
        "#     plt.ylabel('Accuracy')\n",
        "#     plt.xlabel('Epoch')\n",
        "#     plt.legend(['Train', 'Validation'], loc='lower right')\n",
        "#     plt.savefig(f'outputs/{version}/training_accuracy.png', bbox_inches='tight', dpi=600)\n",
        "\n",
        "#     # Plot training & validation loss values\n",
        "#     plt.subplot(1, 2, 2)\n",
        "#     plt.plot(history.history['loss'])\n",
        "#     plt.plot(history.history['val_loss'])\n",
        "#     plt.title('Model Loss')\n",
        "#     plt.ylabel('Loss')\n",
        "#     plt.xlabel('Epoch')\n",
        "#     plt.legend(['Train', 'Validation'], loc='upper right')\n",
        "\n",
        "#     plt.tight_layout()\n",
        "#     plt.savefig(f'outputs/{version}/training_history.png', bbox_inches='tight', dpi=600)\n",
        "#     return plt\n",
        "\n",
        "# def print_model_summary(model):\n",
        "#     \"\"\"\n",
        "#     Print a detailed summary of the model architecture\n",
        "\n",
        "#     Parameters:\n",
        "#     - model: Keras model\n",
        "#     \"\"\"\n",
        "#     # Capture model summary as a string\n",
        "#     from io import StringIO\n",
        "#     import sys\n",
        "\n",
        "#     # Redirect stdout to capture model summary\n",
        "#     old_stdout = sys.stdout\n",
        "#     model_summary = StringIO()\n",
        "#     sys.stdout = model_summary\n",
        "\n",
        "#     model.summary()\n",
        "\n",
        "#     # Restore stdout and get the summary\n",
        "#     sys.stdout = old_stdout\n",
        "#     summary_text = model_summary.getvalue()\n",
        "\n",
        "#     print(\"Model Architecture Summary:\")\n",
        "#     print(summary_text)\n",
        "\n",
        "# # Example usage:\n",
        "# def comprehensive_model_analysis(model, train_set, validation_set, test_set, labels):\n",
        "#     \"\"\"\n",
        "#     Provide comprehensive analysis of model performance\n",
        "\n",
        "#     Parameters:\n",
        "#     - model: Trained Keras model\n",
        "#     - history: Model training history\n",
        "#     - train_set, validation_set, test_set: Data generators\n",
        "#     - labels: List of class labels\n",
        "#     \"\"\"\n",
        "#     # 1. Print model summary\n",
        "#     print(model.summary())\n",
        "\n",
        "#     # 2. Extract performance metrics\n",
        "#     performance_metrics = extract_performance_from_history(model)\n",
        "\n",
        "#     # 3. Print performance metrics\n",
        "#     print(\"\\n--- Performance Metrics ---\")\n",
        "#     for metric, value in performance_metrics['best_metrics'].items():\n",
        "#         print(f\"{metric.replace('_', ' ').title()}: {value:.4f}\")\n",
        "\n",
        "#     # 4. Plot training history\n",
        "#     plt = plot_training_history(model)\n",
        "#     plt.show()\n",
        "\n",
        "#     # 5. TODO Generate confusion matrices?\n",
        "\n"
      ]
    },
    {
      "cell_type": "code",
      "execution_count": 36,
      "metadata": {},
      "outputs": [],
      "source": [
        "# TODO remove?\n",
        "# comprehensive_model_analysis(model, train_set, validation_set, test_set, labels)"
      ]
    },
    {
      "cell_type": "markdown",
      "metadata": {},
      "source": [
        "### Plot model training loss and accuracy "
      ]
    },
    {
      "cell_type": "code",
      "execution_count": null,
      "metadata": {},
      "outputs": [],
      "source": [
        "# TODO evaluate if this or above is better\n",
        "losses = pd.DataFrame(model.history.history)\n",
        "\n",
        "sns.set_style(\"darkgrid\")\n",
        "losses[['loss','val_loss']].plot(style='.-')\n",
        "plt.title(\"Loss\")\n",
        "plt.savefig(f'{file_path}/model_training_losses.png', bbox_inches='tight', dpi=150)\n",
        "plt.show()\n",
        "\n",
        "\n",
        "print(\"\\n\")\n",
        "losses[['accuracy','val_accuracy']].plot(style='.-')\n",
        "plt.title(\"Accuracy\")\n",
        "plt.savefig(f'{file_path}/model_training_acc.png', bbox_inches='tight', dpi=150)\n",
        "plt.show()"
      ]
    },
    {
      "cell_type": "markdown",
      "metadata": {},
      "source": [
        "### Evaluate and save"
      ]
    },
    {
      "cell_type": "code",
      "execution_count": 38,
      "metadata": {},
      "outputs": [],
      "source": [
        "from keras.models import load_model\n",
        "\n",
        "model = load_model(f'{file_path}/cherry-tree-model.h5')"
      ]
    },
    {
      "cell_type": "code",
      "execution_count": null,
      "metadata": {},
      "outputs": [],
      "source": [
        "try:\n",
        "    eval1 = model.evaluate(test_set)\n",
        "    evaluation_train = model.evaluate(train_set)\n",
        "    evaluation_val = model.evaluate(validation_set)\n",
        "except Exception as e:\n",
        "    eval1 = model.evaluate(test_set)  # evaluate on test set only\n",
        "    print(e)\n",
        "    pass"
      ]
    },
    {
      "cell_type": "code",
      "execution_count": 40,
      "metadata": {},
      "outputs": [],
      "source": [
        "try:\n",
        "    joblib.dump(value=eval1,filename=f\"outputs/{version}/test-evaluation.pkl\")\n",
        "    joblib.dump(value=evaluation_train,filename=f\"outputs/{version}/train-evaluation.pkl\")\n",
        "    joblib.dump(value=evaluation_val,filename=f\"outputs/{version}/val-evaluation.pkl\")\n",
        "except Expection as e:\n",
        "    print(e)\n",
        "    print('-----')\n",
        "    print('saving successful test eval')\n",
        "    joblib.dump(value=eval1,filename=f\"outputs/{version}/test-evaluation.pkl\")\n"
      ]
    },
    {
      "cell_type": "markdown",
      "metadata": {},
      "source": [
        "# Run Live Prediction "
      ]
    },
    {
      "cell_type": "markdown",
      "metadata": {},
      "source": [
        "Load image as PIL"
      ]
    },
    {
      "cell_type": "code",
      "execution_count": null,
      "metadata": {},
      "outputs": [],
      "source": [
        "from tensorflow.keras.preprocessing import image\n",
        "import random \n",
        "pointer = int(random.randrange(len(test_set)))  # random test_set image \n",
        "label = labels[1]  # select Uninfected or Parasitised # TODO make random 0 or 1\n",
        "\n",
        "pil_image = image.load_img(test_path + '/' + label + '/' + os.listdir(test_path+'/' + label)[pointer],\n",
        "                           target_size=image_shape, color_mode='rgb')\n",
        "print(f'Image shape: {pil_image.size}, Image mode: {pil_image.mode}')\n",
        "pil_image"
      ]
    },
    {
      "cell_type": "markdown",
      "metadata": {},
      "source": [
        "Convert prediction image to array for prediction"
      ]
    },
    {
      "cell_type": "code",
      "execution_count": null,
      "metadata": {},
      "outputs": [],
      "source": [
        "pred_img = image.img_to_array(pil_image)\n",
        "pred_img = np.expand_dims(pred_img, axis=0)/255\n",
        "print(pred_img.shape)\n",
        "pred_img"
      ]
    },
    {
      "cell_type": "markdown",
      "metadata": {},
      "source": [
        "Predict class probability on test image"
      ]
    },
    {
      "cell_type": "code",
      "execution_count": null,
      "metadata": {},
      "outputs": [],
      "source": [
        "pred_proba = model.predict(pred_img)[0, 0] # why 0 0?\n",
        "\n",
        "target_map = {v: k for k, v in train_set.class_indices.items()}\n",
        "pred_class = target_map[pred_proba > 0.5]\n",
        "\n",
        "if pred_class == target_map[0]:\n",
        "  pred_proba = 1 - pred_proba\n",
        "\n",
        "print(f'Prediction: {pred_class}\\nConfidence: {pred_proba*100:.1f}%') # TODO do I want more decimal places?"
      ]
    },
    {
      "cell_type": "markdown",
      "metadata": {},
      "source": [
        "*** "
      ]
    },
    {
      "cell_type": "markdown",
      "metadata": {},
      "source": [
        "### Push all notebook outputs to repo"
      ]
    },
    {
      "cell_type": "code",
      "execution_count": null,
      "metadata": {},
      "outputs": [],
      "source": [
        "try:\n",
        "    !git add outputs/{version}\n",
        "    !git commit -m f\"Add \" + {version} + \" outputs for analysis\"\n",
        "    !git push origin main\n",
        "except Exception as e:\n",
        "    print(e)"
      ]
    }
  ],
  "metadata": {
    "accelerator": "GPU",
    "colab": {
      "name": "Data Practitioner Jupyter Notebook.ipynb",
      "provenance": [],
      "toc_visible": true
    },
    "interpreter": {
      "hash": "8b8334dab9339717f727a1deaf837b322d7a41c20d15cc86be99a8e69ceec8ce"
    },
    "kernelspec": {
      "display_name": "Python 3.8.12 64-bit ('3.8.12': pyenv)",
      "name": "python3"
    },
    "language_info": {
      "codemirror_mode": {
        "name": "ipython",
        "version": 3
      },
      "file_extension": ".py",
      "mimetype": "text/x-python",
      "name": "python",
      "nbconvert_exporter": "python",
      "pygments_lexer": "ipython3",
      "version": "3.8.18"
    },
    "orig_nbformat": 2
  },
  "nbformat": 4,
  "nbformat_minor": 2
}
