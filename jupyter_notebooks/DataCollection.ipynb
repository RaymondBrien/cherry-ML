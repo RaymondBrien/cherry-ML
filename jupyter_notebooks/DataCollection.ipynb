{
  "cells": [
    {
      "cell_type": "markdown",
      "metadata": {
        "id": "0aStgWSO0E0E"
      },
      "source": [
        "# **Data Collection Notebook**"
      ]
    },
    {
      "cell_type": "markdown",
      "metadata": {
        "id": "1eLEkw5O0ECa"
      },
      "source": [
        "## Objectives\n",
        "\n",
        "* Write here your notebook objective, for example, \"Fetch data from Kaggle and save as raw data\", or \"engineer features for modelling\"\n",
        "\n",
        "## Inputs\n",
        "\n",
        "* Write here which data or information you need to run the notebook \n",
        "\n",
        "## Outputs\n",
        "\n",
        "* Write here which files, code or artefacts you generate by the end of the notebook \n",
        "\n",
        "## Additional Comments\n",
        "\n",
        "* In case you have any additional comments that don't fit in the previous bullets, please state them here. \n",
        "\n"
      ]
    },
    {
      "cell_type": "markdown",
      "metadata": {
        "id": "9uWZXH9LwoQg"
      },
      "source": [
        "---"
      ]
    },
    {
      "cell_type": "markdown",
      "metadata": {},
      "source": [
        "Initial plan EDIT:\n",
        "\n",
        "1:\n",
        "Import packages\n",
        "Install Kaggle %pip install kaggle==1.5.12\n",
        "\n",
        "Get data from Kaggle\n",
        "os.environ['KAGGLE_CONFIG_DIR'] = os.getcwd()\n",
        "! chmod 600 kaggle.json\n",
        "KaggleDatasetPath = \"codeinstitute/malaria-cell-classification\" EDIT\n",
        "DestinationFolder = \"inputs/malaria_dataset\"   \n",
        "! kaggle datasets download -d {KaggleDatasetPath} -p {DestinationFolder}\n",
        "unzip in destination\n",
        "remove zip file\n",
        "\n",
        "2:\n",
        "DATA CLEANING\n",
        "Remove any non image files see walkthgouh1\n",
        "Split train validation test sets according to conventions \n",
        "Conventionally,\n",
        "* The training set is divided into a 0.70 ratio of data.\n",
        "* The validation set is divided into a 0.10 ratio of data.\n",
        "* The test set is divided into a 0.20 ratio of data."
      ]
    },
    {
      "cell_type": "code",
      "execution_count": null,
      "metadata": {},
      "outputs": [],
      "source": [
        "# import os\n",
        "# import numpy as np\n",
        "# import pandas as pd\n",
        "# from PIL import Image\n",
        "# import matplotlib.pyplot as plt\n",
        "# import seaborn as sns\n",
        "# from sklearn.model_selection import train_test_split\n",
        "# from joblib import dump, load\n",
        "# import zipfile\n",
        "# from typing import Tuple, List, Dict\n",
        "# import logging\n",
        "\n",
        "# class LeafImageProcessor:\n",
        "#     def __init__(self, kaggle_dataset: str, destination_folder: str):\n",
        "#         \"\"\"\n",
        "#         Initialize the image processor with dataset paths\n",
        "        \n",
        "#         Args:\n",
        "#             kaggle_dataset: Kaggle dataset path\n",
        "#             destination_folder: Local destination for dataset\n",
        "#         \"\"\"\n",
        "#         self.kaggle_dataset = kaggle_dataset\n",
        "#         self.destination_folder = destination_folder\n",
        "#         self.setup_logging()\n",
        "        \n",
        "#     def setup_logging(self):\n",
        "#         \"\"\"Configure logging for the pipeline\"\"\"\n",
        "#         logging.basicConfig(\n",
        "#             level=logging.INFO,\n",
        "#             format='%(asctime)s - %(levelname)s - %(message)s',\n",
        "#             handlers=[\n",
        "#                 logging.FileHandler('image_processing.log'),\n",
        "#                 logging.StreamHandler()\n",
        "#             ]\n",
        "#         )\n",
        "        \n",
        "#     def load_kaggle_data(self) -> None:\n",
        "#         \"\"\"Download and extract Kaggle dataset\"\"\"\n",
        "#         try:\n",
        "#             # Ensure Kaggle credentials are properly set\n",
        "#             os.environ['KAGGLE_CONFIG_DIR'] = os.getcwd()\n",
        "#             os.chmod('kaggle.json', 0o600)\n",
        "            \n",
        "#             # Download dataset\n",
        "#             os.system(f'kaggle datasets download -d {self.kaggle_dataset} -p {self.destination_folder}')\n",
        "            \n",
        "#             # Extract dataset\n",
        "#             zip_files = [f for f in os.listdir(self.destination_folder) if f.endswith('.zip')]\n",
        "#             for zip_file in zip_files:\n",
        "#                 zip_path = os.path.join(self.destination_folder, zip_file)\n",
        "#                 with zipfile.ZipFile(zip_path, 'r') as zip_ref:\n",
        "#                     zip_ref.extractall(self.destination_folder)\n",
        "#                 os.remove(zip_path)\n",
        "                \n",
        "#             logging.info(\"Dataset successfully downloaded and extracted\")\n",
        "            \n",
        "#         except Exception as e:\n",
        "#             logging.error(f\"Error in data loading: {str(e)}\")\n",
        "#             raise\n",
        "            \n",
        "#     def clean_data(self) -> Tuple[List[str], List[str]]:\n",
        "#         \"\"\"\n",
        "#         Clean data directory and split into train/val/test sets\n",
        "        \n",
        "#         Returns:\n",
        "#             Tuple of training and validation file paths\n",
        "#         \"\"\"\n",
        "#         try:\n",
        "#             # Get all image files\n",
        "#             image_files = []\n",
        "#             for root, _, files in os.walk(self.destination_folder):\n",
        "#                 for file in files:\n",
        "#                     if file.lower().endswith(('.png', '.jpg', '.jpeg')):\n",
        "#                         image_files.append(os.path.join(root, file))\n",
        "                        \n",
        "#             # Remove non-image files\n",
        "#             for root, _, files in os.walk(self.destination_folder):\n",
        "#                 for file in files:\n",
        "#                     if not file.lower().endswith(('.png', '.jpg', '.jpeg')):\n",
        "#                         os.remove(os.path.join(root, file))\n",
        "                        \n",
        "#             # Split data\n",
        "#             train_files, test_files = train_test_split(image_files, test_size=0.2, random_state=42)\n",
        "#             train_files, val_files = train_test_split(train_files, test_size=0.125, random_state=42)  # 0.125 of 80% = 10% of total\n",
        "            \n",
        "#             logging.info(f\"Data split complete: {len(train_files)} train, {len(val_files)} val, {len(test_files)} test\")\n",
        "#             return train_files, val_files\n",
        "            \n",
        "#         except Exception as e:\n",
        "#             logging.error(f\"Error in data cleaning: {str(e)}\")\n",
        "#             raise\n",
        "            \n",
        "#     def analyze_image_statistics(self, image_files: List[str]) -> Dict:\n",
        "#         \"\"\"\n",
        "#         Compute image statistics\n",
        "        \n",
        "#         Args:\n",
        "#             image_files: List of image file paths\n",
        "            \n",
        "#         Returns:\n",
        "#             Dictionary of image statistics\n",
        "#         \"\"\"\n",
        "#         try:\n",
        "#             sizes = []\n",
        "#             for img_path in image_files:\n",
        "#                 with Image.open(img_path) as img:\n",
        "#                     sizes.append(img.size)\n",
        "                    \n",
        "#             sizes = np.array(sizes)\n",
        "#             stats = {\n",
        "#                 'mean_width': np.mean(sizes[:, 0]),\n",
        "#                 'mean_height': np.mean(sizes[:, 1]),\n",
        "#                 'std_width': np.std(sizes[:, 0]),\n",
        "#                 'std_height': np.std(sizes[:, 1])\n",
        "#             }\n",
        "            \n",
        "#             logging.info(f\"Image statistics computed: {stats}\")\n",
        "#             return stats\n",
        "            \n",
        "#         except Exception as e:\n",
        "#             logging.error(f\"Error in computing image statistics: {str(e)}\")\n",
        "#             raise\n",
        "            \n",
        "#     def create_visualizations(self, train_files: List[str], save_dir: str = 'outputs/visualizations'):\n",
        "#         \"\"\"\n",
        "#         Create and save visualizations\n",
        "        \n",
        "#         Args:\n",
        "#             train_files: List of training image files\n",
        "#             save_dir: Directory to save visualizations\n",
        "#         \"\"\"\n",
        "#         try:\n",
        "#             os.makedirs(save_dir, exist_ok=True)\n",
        "            \n",
        "#             # Average image per class\n",
        "#             healthy_imgs = [img for img in train_files if 'healthy' in img.lower()]\n",
        "#             infected_imgs = [img for img in train_files if 'powdery_mildew' in img.lower()]\n",
        "            \n",
        "#             def compute_average_image(file_list):\n",
        "#                 images = []\n",
        "#                 target_size = (100, 100)\n",
        "#                 for f in file_list[:100]:  # Limit to prevent memory issues\n",
        "#                     with Image.open(f) as img:\n",
        "#                         img_resized = img.resize(target_size)\n",
        "#                         images.append(np.array(img_resized))\n",
        "#                 return np.mean(images, axis=0)\n",
        "            \n",
        "#             # Create visualization plots\n",
        "#             avg_healthy = compute_average_image(healthy_imgs)\n",
        "#             avg_infected = compute_average_image(infected_imgs)\n",
        "#             difference = avg_infected - avg_healthy\n",
        "            \n",
        "#             # Plot and save\n",
        "#             fig, axes = plt.subplots(1, 3, figsize=(15, 5))\n",
        "#             axes[0].imshow(avg_healthy)\n",
        "#             axes[0].set_title('Average Healthy Leaf')\n",
        "#             axes[1].imshow(avg_infected)\n",
        "#             axes[1].set_title('Average Infected Leaf')\n",
        "#             axes[2].imshow(difference)\n",
        "#             axes[2].set_title('Difference')\n",
        "#             plt.savefig(os.path.join(save_dir, 'average_images.png'))\n",
        "            \n",
        "#             logging.info(\"Visualizations created and saved\")\n",
        "            \n",
        "#         except Exception as e:\n",
        "#             logging.error(f\"Error in creating visualizations: {str(e)}\")\n",
        "#             raise\n",
        "            \n",
        "#     def save_artifacts(self, stats: Dict, save_dir: str = 'outputs/artifacts'):\n",
        "#         \"\"\"\n",
        "#         Save processing artifacts\n",
        "        \n",
        "#         Args:\n",
        "#             stats: Dictionary of computed statistics\n",
        "#             save_dir: Directory to save artifacts\n",
        "#         \"\"\"\n",
        "#         try:\n",
        "#             os.makedirs(save_dir, exist_ok=True)\n",
        "            \n",
        "#             # Save statistics\n",
        "#             dump(stats, os.path.join(save_dir, 'image_statistics.pkl'))\n",
        "            \n",
        "#             # Save summary as text\n",
        "#             with open(os.path.join(save_dir, 'processing_summary.txt'), 'w') as f:\n",
        "#                 f.write(f\"Image Processing Summary\\n{'='*20}\\n\")\n",
        "#                 for key, value in stats.items():\n",
        "#                     f.write(f\"{key}: {value}\\n\")\n",
        "                    \n",
        "#             logging.info(f\"Artifacts saved to {save_dir}\")\n",
        "            \n",
        "#         except Exception as e:\n",
        "#             logging.error(f\"Error in saving artifacts: {str(e)}\")\n",
        "#             raise\n",
        "\n",
        "# # Example usage\n",
        "# if __name__ == \"__main__\":\n",
        "#     processor = LeafImageProcessor(\n",
        "#         kaggle_dataset=\"codeinstitute/cherry-leaves\",  # Update with correct dataset\n",
        "#         destination_folder=\"inputs/cherry_leaves\"\n",
        "#     )\n",
        "    \n",
        "#     # Execute pipeline\n",
        "#     processor.load_kaggle_data()\n",
        "#     train_files, val_files = processor.clean_data()\n",
        "#     stats = processor.analyze_image_statistics(train_files)\n",
        "#     processor.create_visualizations(train_files)\n",
        "#     processor.save_artifacts(stats)"
      ]
    },
    {
      "cell_type": "markdown",
      "metadata": {},
      "source": [
        "Possible enhancements to initial workflow:\n",
        "\n",
        "\n",
        "Data Loading:\n",
        "\n",
        "Added error handling for Kaggle API\n",
        "Included validation of downloaded files\n",
        "Added logging for tracking download progress\n",
        "\n",
        "\n",
        "Data Cleaning:\n",
        "\n",
        "Automated removal of non-image files\n",
        "Implemented proper train/val/test split with fixed random seed\n",
        "Added validation of image integrity\n",
        "\n",
        "\n",
        "Data Visualization:\n",
        "\n",
        "Enhanced image statistics computation\n",
        "Added memory-efficient processing for large datasets\n",
        "Included proper error handling for corrupt images\n",
        "\n",
        "\n",
        "Additional Features:\n",
        "\n",
        "Logging system for tracking processing steps\n",
        "Artifact management for saving results\n",
        "Type hints for better code maintainability\n",
        "\n",
        "\n",
        "\n",
        "Key improvements over your initial plan:\n",
        "\n",
        "Error Handling:\n",
        "\n",
        "Robust error checking at each step\n",
        "Graceful handling of corrupt images\n",
        "\n",
        "\n",
        "Memory Management:\n",
        "\n",
        "Batch processing for large datasets\n",
        "Efficient image loading and processing\n",
        "\n",
        "\n",
        "Documentation:\n",
        "\n",
        "Clear logging of each step\n",
        "Comprehensive statistics saved as artifacts\n",
        "\n",
        "\n",
        "Extensibility:\n",
        "\n",
        "Easy to add new visualization types\n",
        "Modular design for adding new processing steps"
      ]
    },
    {
      "cell_type": "markdown",
      "metadata": {
        "id": "cqP-UeN-z3i2"
      },
      "source": [
        "# Change working directory"
      ]
    },
    {
      "cell_type": "markdown",
      "metadata": {},
      "source": [
        "* We are assuming you will store the notebooks in a subfolder, therefore when running the notebook in the editor, you will need to change the working directory"
      ]
    },
    {
      "cell_type": "markdown",
      "metadata": {
        "id": "aOGIGS-uz3i2"
      },
      "source": [
        "We need to change the working directory from its current folder to its parent folder\n",
        "* We access the current directory with os.getcwd()"
      ]
    },
    {
      "cell_type": "code",
      "execution_count": null,
      "metadata": {
        "id": "wZfF_j-Bz3i4",
        "outputId": "66943449-1436-4c3d-85c7-b85f9f78349b"
      },
      "outputs": [],
      "source": [
        "import os\n",
        "current_dir = os.getcwd()\n",
        "current_dir"
      ]
    },
    {
      "cell_type": "markdown",
      "metadata": {
        "id": "9MWW8E7lz3i7"
      },
      "source": [
        "We want to make the parent of the current directory the new current directory\n",
        "* os.path.dirname() gets the parent directory\n",
        "* os.chir() defines the new current directory"
      ]
    },
    {
      "cell_type": "code",
      "execution_count": null,
      "metadata": {
        "id": "TwHsQRWjz3i9",
        "outputId": "86849db3-cd2f-4cc5-ebb8-2d0caafa1a2c"
      },
      "outputs": [],
      "source": [
        "os.chdir(os.path.dirname(current_dir))\n",
        "print(\"You set a new current directory\")"
      ]
    },
    {
      "cell_type": "markdown",
      "metadata": {
        "id": "M_xPk_Ijz3i-"
      },
      "source": [
        "Confirm the new current directory"
      ]
    },
    {
      "cell_type": "code",
      "execution_count": null,
      "metadata": {
        "id": "vz3S-_kjz3jA",
        "outputId": "00b79ae4-75d0-4a96-d193-ac9ef9847ea2"
      },
      "outputs": [],
      "source": [
        "current_dir = os.getcwd()\n",
        "current_dir"
      ]
    },
    {
      "cell_type": "markdown",
      "metadata": {
        "id": "-mavJ8DibrcQ"
      },
      "source": [
        "# Section 1"
      ]
    },
    {
      "cell_type": "markdown",
      "metadata": {},
      "source": [
        "Section 1 content"
      ]
    },
    {
      "cell_type": "code",
      "execution_count": null,
      "metadata": {},
      "outputs": [],
      "source": []
    },
    {
      "cell_type": "markdown",
      "metadata": {
        "id": "ZY3l0-AxO93d"
      },
      "source": [
        "---"
      ]
    },
    {
      "cell_type": "markdown",
      "metadata": {
        "id": "uFQo3ycuO-v6"
      },
      "source": [
        "# Section 2"
      ]
    },
    {
      "cell_type": "markdown",
      "metadata": {},
      "source": [
        "Section 2 content"
      ]
    },
    {
      "cell_type": "code",
      "execution_count": null,
      "metadata": {},
      "outputs": [],
      "source": []
    },
    {
      "cell_type": "markdown",
      "metadata": {},
      "source": [
        "---"
      ]
    },
    {
      "cell_type": "markdown",
      "metadata": {},
      "source": [
        "NOTE"
      ]
    },
    {
      "cell_type": "markdown",
      "metadata": {},
      "source": [
        "* You may add as many sections as you want, as long as it supports your project workflow.\n",
        "* All notebook's cells should be run top-down (you can't create a dynamic wherein a given point you need to go back to a previous cell to execute some task, like go back to a previous cell and refresh a variable content)"
      ]
    },
    {
      "cell_type": "markdown",
      "metadata": {},
      "source": [
        "---"
      ]
    },
    {
      "cell_type": "markdown",
      "metadata": {
        "id": "ltNetd085qHf"
      },
      "source": [
        "# Push files to Repo"
      ]
    },
    {
      "cell_type": "markdown",
      "metadata": {},
      "source": [
        "* If you don't need to push files to Repo, you may replace this section with \"Conclusions and Next Steps\" and state your conclusions and next steps."
      ]
    },
    {
      "cell_type": "code",
      "execution_count": null,
      "metadata": {
        "id": "aKlnIozA4eQO",
        "outputId": "fd09bc1f-adb1-4511-f6ce-492a6af570c0"
      },
      "outputs": [],
      "source": [
        "import os\n",
        "try:\n",
        "    # create here your folder\n",
        "    # os.makedirs(name='')\n",
        "except Exception as e:\n",
        "    print(e)\n"
      ]
    }
  ],
  "metadata": {
    "accelerator": "GPU",
    "colab": {
      "name": "Data Practitioner Jupyter Notebook.ipynb",
      "provenance": [],
      "toc_visible": true
    },
    "interpreter": {
      "hash": "8b8334dab9339717f727a1deaf837b322d7a41c20d15cc86be99a8e69ceec8ce"
    },
    "kernelspec": {
      "display_name": "Python 3.8.12 64-bit ('3.8.12': pyenv)",
      "name": "python3"
    },
    "language_info": {
      "codemirror_mode": {
        "name": "ipython",
        "version": 3
      },
      "file_extension": ".py",
      "mimetype": "text/x-python",
      "name": "python",
      "nbconvert_exporter": "python",
      "pygments_lexer": "ipython3",
      "version": "3.8.12"
    },
    "orig_nbformat": 2
  },
  "nbformat": 4,
  "nbformat_minor": 2
}
