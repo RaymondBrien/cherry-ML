{
 "cells": [
  {
   "cell_type": "markdown",
   "metadata": {
    "id": "0aStgWSO0E0E"
   },
   "source": [
    "# **Data Collection Notebook**"
   ]
  },
  {
   "cell_type": "markdown",
   "metadata": {
    "id": "1eLEkw5O0ECa"
   },
   "source": [
    "## Objectives\n",
    "\n",
    "* Fetch data from Kaggle and save as raw data.\n",
    "* Prepare data for future processes.\n",
    "\n",
    "## Inputs\n",
    "\n",
    "* Kaggle JSON file - authentification token for dataset access. \n",
    "\n",
    "## Outputs\n",
    "\n",
    "* Generate Dataset: inputs/datasets/cherry_dataset\n",
    "\n",
    "## Additional Comments\n",
    "\n",
    "* Python 3.8.18 used as kernal during runtime.\n",
    "\n"
   ]
  },
  {
   "cell_type": "markdown",
   "metadata": {
    "id": "9uWZXH9LwoQg"
   },
   "source": [
    "---"
   ]
  },
  {
   "cell_type": "markdown",
   "metadata": {
    "id": "cqP-UeN-z3i2"
   },
   "source": [
    "# Set up notebook workspace\n",
    "\n",
    "* change working directory to parent for requirements access\n",
    "* confirm python version for continuity (3.8.18)\n",
    "* install requirements"
   ]
  },
  {
   "cell_type": "code",
   "execution_count": null,
   "metadata": {
    "id": "wZfF_j-Bz3i4",
    "outputId": "66943449-1436-4c3d-85c7-b85f9f78349b"
   },
   "outputs": [],
   "source": [
    "# Notebooks saved in subdirectory. Root access required for installing required packages.\n",
    "import os\n",
    "\n",
    "# get current directory\n",
    "current_dir = os.getcwd() \n",
    "current_dir"
   ]
  },
  {
   "cell_type": "code",
   "execution_count": null,
   "metadata": {
    "id": "TwHsQRWjz3i9",
    "outputId": "86849db3-cd2f-4cc5-ebb8-2d0caafa1a2c"
   },
   "outputs": [],
   "source": [
    "os.chdir(os.path.dirname(current_dir))  # change to parent dir\n",
    "print(\"You set a new current directory\")"
   ]
  },
  {
   "cell_type": "code",
   "execution_count": null,
   "metadata": {
    "id": "vz3S-_kjz3jA",
    "outputId": "00b79ae4-75d0-4a96-d193-ac9ef9847ea2"
   },
   "outputs": [],
   "source": [
    "# confirm the new current directory\n",
    "current_dir = os.getcwd()\n",
    "current_dir"
   ]
  },
  {
   "cell_type": "markdown",
   "metadata": {},
   "source": [
    "### Confirm Python Version"
   ]
  },
  {
   "cell_type": "code",
   "execution_count": null,
   "metadata": {},
   "outputs": [],
   "source": [
    "# confirm python version is 3.8.18 for continuity\n",
    "! python --version"
   ]
  },
  {
   "cell_type": "markdown",
   "metadata": {},
   "source": [
    "### Install packages"
   ]
  },
  {
   "cell_type": "code",
   "execution_count": null,
   "metadata": {},
   "outputs": [],
   "source": [
    "!pwd\n",
    "%pip install -r requirements.txt\n"
   ]
  },
  {
   "cell_type": "markdown",
   "metadata": {
    "id": "-mavJ8DibrcQ"
   },
   "source": [
    "# Collect Data via Kaggle API"
   ]
  },
  {
   "cell_type": "markdown",
   "metadata": {},
   "source": [
    "Install Kaggle"
   ]
  },
  {
   "cell_type": "code",
   "execution_count": null,
   "metadata": {},
   "outputs": [],
   "source": [
    "# confirm kaggle installed if not already\n",
    "%pip install kaggle==1.5.12"
   ]
  },
  {
   "cell_type": "markdown",
   "metadata": {},
   "source": [
    "Allow Kaggle configuration using auth JSON setting config dir to current dir."
   ]
  },
  {
   "cell_type": "code",
   "execution_count": 8,
   "metadata": {},
   "outputs": [],
   "source": [
    "os.environ['KAGGLE_CONFIG_DIR'] = os.getcwd()\n",
    "! chmod 600 kaggle.json"
   ]
  },
  {
   "cell_type": "markdown",
   "metadata": {},
   "source": [
    "Set Kaggle Dataset and download it."
   ]
  },
  {
   "cell_type": "code",
   "execution_count": null,
   "metadata": {},
   "outputs": [],
   "source": [
    "KaggleDatasetPath = \"codeinstitute/cherry-leaves\"\n",
    "DestinationFolder = \"inputs/cherry-leaves-dataset\"  # creates new dir/dir\n",
    "! kaggle datasets download -d {KaggleDatasetPath} -p {DestinationFolder}"
   ]
  },
  {
   "cell_type": "markdown",
   "metadata": {},
   "source": [
    "Unzip downloaded dataset file"
   ]
  },
  {
   "cell_type": "code",
   "execution_count": 10,
   "metadata": {},
   "outputs": [],
   "source": [
    "import zipfile\n",
    "\n",
    "try:\n",
    "    with zipfile.ZipFile(DestinationFolder + '/cherry-leaves.zip', 'r') as zip_ref:\n",
    "        zip_ref.extractall(DestinationFolder)\n",
    "except Exception as e:\n",
    "    print(e)\n"
   ]
  },
  {
   "cell_type": "markdown",
   "metadata": {},
   "source": [
    "Delete redundant zip file"
   ]
  },
  {
   "cell_type": "code",
   "execution_count": 11,
   "metadata": {},
   "outputs": [],
   "source": [
    "os.remove(DestinationFolder + '/cherry-leaves.zip')"
   ]
  },
  {
   "cell_type": "markdown",
   "metadata": {
    "id": "ZY3l0-AxO93d"
   },
   "source": [
    "---"
   ]
  },
  {
   "cell_type": "markdown",
   "metadata": {
    "id": "uFQo3ycuO-v6"
   },
   "source": [
    "# Data Preparation"
   ]
  },
  {
   "cell_type": "markdown",
   "metadata": {},
   "source": [
    "# Data Cleaning\n",
    "\n",
    "* remove any non-image files"
   ]
  },
  {
   "cell_type": "code",
   "execution_count": null,
   "metadata": {},
   "outputs": [],
   "source": [
    "def remove_non_image_files(my_data_dir):\n",
    "    \"\"\"\n",
    "    Remove any files that do not contain\n",
    "    png, jpg or jpeg extension\n",
    "\n",
    "    \"\"\"\n",
    "    print('Removing non image files...\\n')\n",
    "    image_extension = ('.png', '.jpg', 'jpeg')\n",
    "    folders = os.listdir(my_data_dir)\n",
    "    for folder in folders:\n",
    "        files = os.listdir(f'{my_data_dir}/{folder}')\n",
    "        # print files\n",
    "        non_image = []\n",
    "        image_count = []\n",
    "\n",
    "        # iterate through all files in each folder\n",
    "        for given_file in files:\n",
    "            try:\n",
    "                if not given_file.lower().endswith(image_extension):\n",
    "                    file_location = f'{my_data_dir}/{folder}/{given_file}'\n",
    "                    os.remove(file_location) # remove non image file\n",
    "                    non_image.append(1)\n",
    "                else:\n",
    "                    image_count.append(1)\n",
    "                    pass\n",
    "            except Exception as e:\n",
    "                print(e)\n",
    "\n",
    "        print(f'Folder: {folder} has - {len(image_count)} image files')\n",
    "        print(f'Folder: {folder} has - {len(non_image)} non image files, which have been removed')"
   ]
  },
  {
   "cell_type": "code",
   "execution_count": null,
   "metadata": {},
   "outputs": [],
   "source": [
    "remove_non_image_files('inputs/cherry-leaves-dataset/cherry-leaves')"
   ]
  },
  {
   "cell_type": "markdown",
   "metadata": {},
   "source": [
    "# Split train validation test sets"
   ]
  },
  {
   "cell_type": "code",
   "execution_count": null,
   "metadata": {},
   "outputs": [],
   "source": [
    "import os\n",
    "import shutil\n",
    "import random\n",
    "\n",
    "def split_train_validation_test_images(my_data_dir, train_set_ratio, validation_set_ratio, test_set_ratio):\n",
    "    \"\"\"\n",
    "    Split images into train, validation and test sets defined in ratio params.\n",
    "    (expected: train (70%), validation (10%), test (20%))\n",
    "    \"\"\"\n",
    "    # confirm ratios total 1.0\n",
    "    if train_set_ratio + validation_set_ratio + test_set_ratio != 1.0:\n",
    "        print('Ratios should total 1.0.')\n",
    "        print('You entered:\\n')\n",
    "        print(f'Train radio: {train_set_ratio}')\n",
    "        print(f'Validation radio: {validation_set_ratio}')\n",
    "        print(f'Test radio: {test_set_ratio}')\n",
    "        return\n",
    "\n",
    "    # get classes labels\n",
    "    labels = os.listdir(my_data_dir)  # expect only folder name\n",
    "    if 'test' in labels:\n",
    "        pass\n",
    "    else:\n",
    "        try:\n",
    "            # create train, test folders with classes labels sub-folder\n",
    "            for folder in ['train', 'validation', 'test']:\n",
    "                for label in labels:\n",
    "                    os.makedirs(name=f'{my_data_dir}/{folder}/{label}')\n",
    "\n",
    "            for label in labels:\n",
    "\n",
    "                files = os.listdir(f'{my_data_dir}/{label}')\n",
    "                random.seed(42)  # random seed for continuity\n",
    "                random.shuffle(files)\n",
    "\n",
    "                train_set_files_qty = int(len(files) * train_set_ratio)\n",
    "                validation_set_files_qty = int(len(files) * validation_set_ratio)\n",
    "\n",
    "                count = 1\n",
    "                for file_name in files:\n",
    "                    if count <= train_set_files_qty:\n",
    "                        # move given file to train set\n",
    "                        shutil.move(f'{my_data_dir}/{label}/{file_name}',\n",
    "                                    f'{my_data_dir}/train/{label}/{file_name}')\n",
    "                    elif count <= (train_set_files_qty + validation_set_files_qty):\n",
    "                        # move given file to the validation set\n",
    "                        shutil.move(f'{my_data_dir}/{label}/{file_name}',\n",
    "                                    f'{my_data_dir}/validation/{label}/{file_name}')\n",
    "                    else:\n",
    "                        # move given file to test set\n",
    "                        shutil.move(f'{my_data_dir}/{label}/{file_name}',\n",
    "                                    f'{my_data_dir}/test/{label}/{file_name}')\n",
    "\n",
    "                    count += 1\n",
    "\n",
    "                os.rmdir(f'{my_data_dir}/{label}')\n",
    "\n",
    "        except Exception as e:\n",
    "            print(e)\n",
    "    print('Done!')\n",
    "\n",
    "\n",
    "\n"
   ]
  },
  {
   "cell_type": "markdown",
   "metadata": {},
   "source": [
    "Conventional ratios will be followed here:\n",
    "* The training set is divided into a 0.70 ratio of data.\n",
    "* The validation set is divided into a 0.10 ratio of data.\n",
    "* The test set is divided into a 0.20 ratio of data."
   ]
  },
  {
   "cell_type": "code",
   "execution_count": null,
   "metadata": {},
   "outputs": [],
   "source": [
    "split_train_validation_test_images(\n",
    "    my_data_dir='inputs/cherry-leaves-dataset/cherry-leaves',\n",
    "    train_set_ratio=0.7,\n",
    "    validation_set_ratio=0.1,\n",
    "    test_set_ratio=0.2\n",
    ")"
   ]
  },
  {
   "cell_type": "markdown",
   "metadata": {},
   "source": [
    "---"
   ]
  },
  {
   "cell_type": "markdown",
   "metadata": {
    "id": "ltNetd085qHf"
   },
   "source": [
    "# Prepare for push to repository"
   ]
  },
  {
   "cell_type": "markdown",
   "metadata": {},
   "source": [
    "* Ensure the downloaded files are not added to repo by including in .gitinore file (they can be redownloaded in the workspace if neccessary)"
   ]
  },
  {
   "cell_type": "code",
   "execution_count": null,
   "metadata": {},
   "outputs": [],
   "source": [
    "import os\n",
    "\n",
    "# Add dataset inputs folder to gitignore if not already\n",
    "!grep -qxF \"/inputs/cherry-leaves-dataset/cherry-leaves/\" .gitignore || echo \"/inputs/cherry-leaves-dataset/cherry-leaves/\" >> .gitignore\n"
   ]
  },
  {
   "cell_type": "markdown",
   "metadata": {},
   "source": [
    "Confirm included in .gitignore before pushing to repo"
   ]
  },
  {
   "cell_type": "code",
   "execution_count": null,
   "metadata": {},
   "outputs": [],
   "source": [
    "cat .gitignore"
   ]
  },
  {
   "cell_type": "markdown",
   "metadata": {},
   "source": [
    "All files are now prepared for data exploration.\n",
    "Only images are in the dataset according to defined file types. "
   ]
  }
 ],
 "metadata": {
  "accelerator": "GPU",
  "colab": {
   "name": "Data Practitioner Jupyter Notebook.ipynb",
   "provenance": [],
   "toc_visible": true
  },
  "interpreter": {
   "hash": "8b8334dab9339717f727a1deaf837b322d7a41c20d15cc86be99a8e69ceec8ce"
  },
  "kernelspec": {
   "display_name": "Python 3.8.12 64-bit ('3.8.12': pyenv)",
   "name": "python3"
  },
  "language_info": {
   "codemirror_mode": {
    "name": "ipython",
    "version": 3
   },
   "file_extension": ".py",
   "mimetype": "text/x-python",
   "name": "python",
   "nbconvert_exporter": "python",
   "pygments_lexer": "ipython3",
   "version": "3.8.18"
  },
  "orig_nbformat": 2
 },
 "nbformat": 4,
 "nbformat_minor": 2
}
